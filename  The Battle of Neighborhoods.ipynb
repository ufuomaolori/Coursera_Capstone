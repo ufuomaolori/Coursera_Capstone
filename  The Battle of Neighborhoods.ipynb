{
 "cells": [
  {
   "cell_type": "markdown",
   "metadata": {},
   "source": [
    "# Capstone Project - The Battle of Neighborhoods"
   ]
  },
  {
   "cell_type": "markdown",
   "metadata": {},
   "source": [
    "## Introduction\n",
    "\n",
    "New York City, in the state of New York, is by far the largest city in the United States, with an estimated 2016 population of 8.55 million. The city features five separate boroughs: Staten Island, The Bronx, Brooklyn, Queens, and Manhattan. As many as 800 languages are spoken throughout New York City, making it the most diverse city in the world when it comes to linguistic multiplicity.\n",
    "\n",
    "The estimated population for New York City in 2016 is 8,550,405. This reflects a growth of 375,300 people, a 4.6% increase since the 2010 census recorded 8.175 million residents.\n",
    "\n",
    "The most significant increase in New York City’s population occurred in the borough of Brooklyn, which showed a population increase of 5.3% between the 2010 census and 2016 estimates. The second most substantial change is in the Bronx, which reflected a 5.1% increase, followed by Queens (4.9%), Manhattan (3.7%) and Staten Island (1.2%).\n",
    "\n",
    "<b> According to the most recent ACS, the racial composition of New York City was </b>:\n",
    "<ul>\n",
    "    <li>White: 42.67%</li>\n",
    "    <li>Black or African American: 24.27%</li>\n",
    "    <li>Other race: 15.12%</li>\n",
    "    <li>Asian: 13.95%</li>\n",
    "    <li>Two or more races: 3.51%</li>\n",
    "    <li>Native American: 0.43%</li>\n",
    "    <li>Native Hawaiian or Pacific Islander: 0.05%</li>\n",
    "\n",
    "This diversity in culture brings about diverse dishes. There are many resturants in New york City, each beloning to different categories like Spanish, Chinese , Indian , French etc.\n",
    "\n",
    "So as part of this project , we will list and visualize all the parts of New York City that has great Mexican \n",
    "Resturants."
   ]
  },
  {
   "cell_type": "markdown",
   "metadata": {},
   "source": [
    "### Data \n",
    "For this project the following data are needed:\n",
    "<ul>\n",
    "<li> New York City data that contains list Boroughs, Neighborhoods along with their latitude and longitude.\n",
    "    <ul>\n",
    "        <li>Data source : https://cocl.us/new_york_dataset\n",
    "        <li> Description : This data set contains the required information. And we will use this data set to explore various neighborhoods of new york city.\n",
    "     </ul>\n",
    "<li> Indian resturants in each neighborhood of new york city.\n",
    "        <ul>\n",
    "        <li>Data source : Fousquare API\n",
    "        <li> Description : By using this api we will get all the venues in each neighborhood. We can filter these venues to get only indian resturants.\n",
    "     </ul>\n",
    "<li> GeoSpace data\n",
    "          <ul>\n",
    "        <li>Data source : https://data.cityofnewyork.us/City-Government/Borough-Boundaries/tqmj-j8zm\n",
    "        <li> Description : By using this geo space data we will get the New york Borough boundaries that will help us visualize choropleth map.\n",
    "  \n",
    "</ul>"
   ]
  },
  {
   "cell_type": "markdown",
   "metadata": {},
   "source": [
    "### Approach\n",
    "- Collect the new york city data from https://cocl.us/new_york_dataset\n",
    "- Using FourSquare API we will find all venues for each neighborhood.\n",
    "- Filter out all venues that are Mexican Resturants.\n",
    "- Find rating , tips and like count for each Mexican Resturants using FourSquare API.\n",
    "- Using rating for each resturant , we will sort that data.\n",
    "- Visualize the Ranking of neighborhoods using folium library(python)"
   ]
  },
  {
   "cell_type": "markdown",
   "metadata": {},
   "source": [
    "### Questions that can be asked using the above mentioned datasets\n",
    "- What is the best location in New York City for Mexican Dishes ? \n",
    "- Which areas have potential Mexican Resturant Market ? \n",
    "- Which all areas lack Mexican Resturants ?\n",
    "- Which is the best place to stay if you prefer Mexican Dishes ?"
   ]
  },
  {
   "cell_type": "markdown",
   "metadata": {},
   "source": [
    "### Analysis\n",
    "We will import the required libraries for python.\n",
    "\n",
    "- pandas and numpy for handling data.\n",
    "- request module for using FourSquare API.\n",
    "- geopy to get co-ordinates of City of New York.\n",
    "- folium to visualize the results on a map"
   ]
  },
  {
   "cell_type": "code",
   "execution_count": 151,
   "metadata": {},
   "outputs": [
    {
     "name": "stdout",
     "output_type": "stream",
     "text": [
      "Collecting package metadata (repodata.json): ...working... done\n",
      "Solving environment: ...working... done\n",
      "\n",
      "# All requested packages already installed.\n",
      "\n"
     ]
    }
   ],
   "source": [
    "!conda install -c conda-forge geopy --yes"
   ]
  },
  {
   "cell_type": "code",
   "execution_count": 197,
   "metadata": {},
   "outputs": [
    {
     "name": "stdout",
     "output_type": "stream",
     "text": [
      "Libraries imported.\n"
     ]
    }
   ],
   "source": [
    "import pandas as pd\n",
    "import numpy as np\n",
    "pd.set_option('display.max_columns', None)\n",
    "pd.set_option('display.max_rows', None)\n",
    "import requests\n",
    "from bs4 import BeautifulSoup\n",
    "import os\n",
    "import folium # map rendering library\n",
    "from geopy.geocoders import Nominatim # convert an address into latitude and longitude values\n",
    "\n",
    "# Matplotlib and associated plotting modules\n",
    "import matplotlib.pyplot as plt\n",
    "import matplotlib.cm as cm\n",
    "import matplotlib.colors as colors\n",
    "%matplotlib inline\n",
    "\n",
    "\n",
    "print('Libraries imported.')"
   ]
  },
  {
   "cell_type": "code",
   "execution_count": 198,
   "metadata": {},
   "outputs": [],
   "source": [
    "def geo_location(address):\n",
    "    # get geo location of address\n",
    "    geolocator = Nominatim(user_agent=\"ny_explorer\")\n",
    "    location = geolocator.geocode(address)\n",
    "    latitude = location.latitude\n",
    "    longitude = location.longitude\n",
    "    return latitude,longitude"
   ]
  },
  {
   "cell_type": "markdown",
   "metadata": {},
   "source": [
    "We define a function to intract with FourSquare API and get top 100 venues within a radius of 1000 metres for a given latitude and longitude. Below function will return us the venue id , venue name and category."
   ]
  },
  {
   "cell_type": "code",
   "execution_count": 259,
   "metadata": {},
   "outputs": [],
   "source": [
    "CLIENT_ID = 'UHS13L4TWFLNF5P32QP34V2B1AFZPTYU2ZISC5WA4MS3DA0U'\n",
    "CLIENT_SECRET = 'S12WD1SPCKBOARHFRMNHU1JSFUHDOILVZJZXAP03U0Y4ZUMW'\n",
    "VERSION = '20200130'"
   ]
  },
  {
   "cell_type": "code",
   "execution_count": 280,
   "metadata": {},
   "outputs": [],
   "source": [
    "def get_venues(lat,lng):\n",
    "    \n",
    "    #url to fetch data from foursquare api\n",
    "    url = 'https://api.foursquare.com/v2/venues/explore?&client_id={}&client_secret={}&v={}&ll={},{}&radius={}&limit={}'.format(\n",
    "            CLIENT_ID, \n",
    "            CLIENT_SECRET, \n",
    "            VERSION, \n",
    "            lat, \n",
    "            lng, \n",
    "            radius, \n",
    "            LIMIT)\n",
    "    \n",
    "    # get all the data\n",
    "    results = requests.get(url).json()\n",
    "    venue_data=results[\"response\"]['groups'][0]['items']\n",
    "    venue_details=[]\n",
    "    for row in venue_data:\n",
    "        try:\n",
    "            venue_id=row['venue']['id']\n",
    "            venue_name=row['venue']['name']\n",
    "            venue_category=row['venue']['categories'][0]['name']\n",
    "            venue_details.append([venue_id,venue_name,venue_category])\n",
    "        except KeyError:\n",
    "            pass\n",
    "        \n",
    "    column_names=['ID','Name','Category']\n",
    "    df = pd.DataFrame(venue_details,columns=column_names)\n",
    "    return df"
   ]
  },
  {
   "cell_type": "markdown",
   "metadata": {},
   "source": [
    "Now we will define a function to get venue details like like count , rating , tip counts for a given venue id.\n",
    "This will be used for ranking."
   ]
  },
  {
   "cell_type": "code",
   "execution_count": 281,
   "metadata": {},
   "outputs": [],
   "source": [
    "def get_venue_details(venue_id):\n",
    "    \n",
    "    #url to fetch data from foursquare api\n",
    "    url = 'https://api.foursquare.com/v2/venues/{}?&client_id={}&client_secret={}&v={}'.format(\n",
    "            venue_id,\n",
    "            CLIENT_ID, \n",
    "            CLIENT_SECRET, \n",
    "            VERSION)\n",
    "    \n",
    "    # get all the data\n",
    "    results = requests.get(url).json()\n",
    "    venue_data=results['response']['venue']\n",
    "    venue_details=[]\n",
    "    try:\n",
    "        venue_id=venue_data['id']\n",
    "        venue_name=venue_data['name']\n",
    "        venue_likes=venue_data['likes']['count']\n",
    "        venue_rating=venue_data['rating']\n",
    "        venue_tips=venue_data['tips']['count']\n",
    "        venue_details.append([venue_id,venue_name,venue_likes,venue_rating,venue_tips])\n",
    "    except KeyError:\n",
    "        pass\n",
    "        \n",
    "    column_names=['ID','Name','Likes','Rating','Tips']\n",
    "    df = pd.DataFrame(venue_details,columns=column_names)\n",
    "    return df\n"
   ]
  },
  {
   "cell_type": "markdown",
   "metadata": {},
   "source": [
    "Now we define a funtion to get the New york city data such as Boroughs, Neighborhoods along with their latitude and longitude."
   ]
  },
  {
   "cell_type": "code",
   "execution_count": 282,
   "metadata": {},
   "outputs": [],
   "source": [
    "def get_new_york_data():\n",
    "    url='https://cocl.us/new_york_dataset'\n",
    "    resp=requests.get(url).json()\n",
    "    # all data is present in features label\n",
    "    features=resp['features']\n",
    "    \n",
    "    # define the dataframe columns\n",
    "    column_names = ['Borough', 'Neighborhood', 'Latitude', 'Longitude'] \n",
    "    # instantiate the dataframe\n",
    "    new_york_data = pd.DataFrame(columns=column_names)\n",
    "    \n",
    "    for data in features:\n",
    "        borough = data['properties']['borough'] \n",
    "        neighborhood_name = data['properties']['name']\n",
    "        \n",
    "        neighborhood_latlon = data['geometry']['coordinates']\n",
    "        neighborhood_lat = neighborhood_latlon[1]\n",
    "        neighborhood_lon = neighborhood_latlon[0]\n",
    "    \n",
    "        new_york_data = new_york_data.append({'Borough': borough,\n",
    "                                          'Neighborhood': neighborhood_name,\n",
    "                                          'Latitude': neighborhood_lat,\n",
    "                                          'Longitude': neighborhood_lon}, ignore_index=True)\n",
    "    \n",
    "    return new_york_data"
   ]
  },
  {
   "cell_type": "markdown",
   "metadata": {},
   "source": [
    "We will call the above funtion to get the new york city data."
   ]
  },
  {
   "cell_type": "code",
   "execution_count": 283,
   "metadata": {},
   "outputs": [],
   "source": [
    "# get new york data\n",
    "new_york_data=get_new_york_data()"
   ]
  },
  {
   "cell_type": "code",
   "execution_count": 284,
   "metadata": {},
   "outputs": [
    {
     "data": {
      "text/html": [
       "<div>\n",
       "<style scoped>\n",
       "    .dataframe tbody tr th:only-of-type {\n",
       "        vertical-align: middle;\n",
       "    }\n",
       "\n",
       "    .dataframe tbody tr th {\n",
       "        vertical-align: top;\n",
       "    }\n",
       "\n",
       "    .dataframe thead th {\n",
       "        text-align: right;\n",
       "    }\n",
       "</style>\n",
       "<table border=\"1\" class=\"dataframe\">\n",
       "  <thead>\n",
       "    <tr style=\"text-align: right;\">\n",
       "      <th></th>\n",
       "      <th>Borough</th>\n",
       "      <th>Neighborhood</th>\n",
       "      <th>Latitude</th>\n",
       "      <th>Longitude</th>\n",
       "    </tr>\n",
       "  </thead>\n",
       "  <tbody>\n",
       "    <tr>\n",
       "      <th>0</th>\n",
       "      <td>Bronx</td>\n",
       "      <td>Wakefield</td>\n",
       "      <td>40.894705</td>\n",
       "      <td>-73.847201</td>\n",
       "    </tr>\n",
       "    <tr>\n",
       "      <th>1</th>\n",
       "      <td>Bronx</td>\n",
       "      <td>Co-op City</td>\n",
       "      <td>40.874294</td>\n",
       "      <td>-73.829939</td>\n",
       "    </tr>\n",
       "    <tr>\n",
       "      <th>2</th>\n",
       "      <td>Bronx</td>\n",
       "      <td>Eastchester</td>\n",
       "      <td>40.887556</td>\n",
       "      <td>-73.827806</td>\n",
       "    </tr>\n",
       "    <tr>\n",
       "      <th>3</th>\n",
       "      <td>Bronx</td>\n",
       "      <td>Fieldston</td>\n",
       "      <td>40.895437</td>\n",
       "      <td>-73.905643</td>\n",
       "    </tr>\n",
       "    <tr>\n",
       "      <th>4</th>\n",
       "      <td>Bronx</td>\n",
       "      <td>Riverdale</td>\n",
       "      <td>40.890834</td>\n",
       "      <td>-73.912585</td>\n",
       "    </tr>\n",
       "  </tbody>\n",
       "</table>\n",
       "</div>"
      ],
      "text/plain": [
       "  Borough Neighborhood   Latitude  Longitude\n",
       "0   Bronx    Wakefield  40.894705 -73.847201\n",
       "1   Bronx   Co-op City  40.874294 -73.829939\n",
       "2   Bronx  Eastchester  40.887556 -73.827806\n",
       "3   Bronx    Fieldston  40.895437 -73.905643\n",
       "4   Bronx    Riverdale  40.890834 -73.912585"
      ]
     },
     "execution_count": 284,
     "metadata": {},
     "output_type": "execute_result"
    }
   ],
   "source": [
    "new_york_data.head()"
   ]
  },
  {
   "cell_type": "code",
   "execution_count": 285,
   "metadata": {},
   "outputs": [
    {
     "data": {
      "text/plain": [
       "(306, 4)"
      ]
     },
     "execution_count": 285,
     "metadata": {},
     "output_type": "execute_result"
    }
   ],
   "source": [
    "new_york_data.shape"
   ]
  },
  {
   "cell_type": "markdown",
   "metadata": {},
   "source": [
    "So there are total of 306 different Neighborhoods in New York"
   ]
  },
  {
   "cell_type": "code",
   "execution_count": 286,
   "metadata": {},
   "outputs": [
    {
     "data": {
      "image/png": "[encoded data removed]",
      "text/plain": [
       "<Figure size 900x500 with 1 Axes>"
      ]
     },
     "metadata": {
      "needs_background": "light"
     },
     "output_type": "display_data"
    }
   ],
   "source": [
    "plt.figure(figsize=(9,5), dpi = 100)\n",
    "# title\n",
    "plt.title('Number of Neighborhood for each Borough in New York City')\n",
    "#On x-axis\n",
    "plt.xlabel('Borough', fontsize = 15)\n",
    "#On y-axis\n",
    "plt.ylabel('No.of Neighborhood', fontsize=15)\n",
    "#giving a bar plot\n",
    "new_york_data.groupby('Borough')['Neighborhood'].count().plot(kind='bar')\n",
    "#legend\n",
    "plt.legend()\n",
    "#displays the plot\n",
    "plt.show()"
   ]
  },
  {
   "cell_type": "markdown",
   "metadata": {},
   "source": [
    "We see that Queens has highest number of neighborhoods\n",
    "\n",
    "Now we will collect Mexican resturants for each Neighborhood"
   ]
  },
  {
   "cell_type": "code",
   "execution_count": 287,
   "metadata": {},
   "outputs": [
    {
     "name": "stdout",
     "output_type": "stream",
     "text": [
      "( 1 / 306 ) Mexican Resturants in Wakefield, Bronx:0\n",
      "( 2 / 306 ) Mexican Resturants in Co-op City, Bronx:0\n",
      "( 3 / 306 ) Mexican Resturants in Eastchester, Bronx:0\n",
      "( 4 / 306 ) Mexican Resturants in Fieldston, Bronx:0\n",
      "( 5 / 306 ) Mexican Resturants in Riverdale, Bronx:0\n",
      "( 6 / 306 ) Mexican Resturants in Kingsbridge, Bronx:3\n",
      "( 7 / 306 ) Mexican Resturants in Marble Hill, Manhattan:0\n",
      "( 8 / 306 ) Mexican Resturants in Woodlawn, Bronx:0\n",
      "( 9 / 306 ) Mexican Resturants in Norwood, Bronx:1\n",
      "( 10 / 306 ) Mexican Resturants in Williamsbridge, Bronx:0\n",
      "( 11 / 306 ) Mexican Resturants in Baychester, Bronx:1\n",
      "( 12 / 306 ) Mexican Resturants in Pelham Parkway, Bronx:0\n",
      "( 13 / 306 ) Mexican Resturants in City Island, Bronx:0\n",
      "( 14 / 306 ) Mexican Resturants in Bedford Park, Bronx:3\n",
      "( 15 / 306 ) Mexican Resturants in University Heights, Bronx:0\n",
      "( 16 / 306 ) Mexican Resturants in Morris Heights, Bronx:0\n",
      "( 17 / 306 ) Mexican Resturants in Fordham, Bronx:0\n",
      "( 18 / 306 ) Mexican Resturants in East Tremont, Bronx:0\n",
      "( 19 / 306 ) Mexican Resturants in West Farms, Bronx:0\n",
      "( 20 / 306 ) Mexican Resturants in High  Bridge, Bronx:0\n",
      "( 21 / 306 ) Mexican Resturants in Melrose, Bronx:1\n",
      "( 22 / 306 ) Mexican Resturants in Mott Haven, Bronx:0\n",
      "( 23 / 306 ) Mexican Resturants in Port Morris, Bronx:0\n",
      "( 24 / 306 ) Mexican Resturants in Longwood, Bronx:0\n",
      "( 25 / 306 ) Mexican Resturants in Hunts Point, Bronx:0\n",
      "( 26 / 306 ) Mexican Resturants in Morrisania, Bronx:1\n",
      "( 27 / 306 ) Mexican Resturants in Soundview, Bronx:0\n",
      "( 28 / 306 ) Mexican Resturants in Clason Point, Bronx:0\n",
      "( 29 / 306 ) Mexican Resturants in Throgs Neck, Bronx:0\n",
      "( 30 / 306 ) Mexican Resturants in Country Club, Bronx:0\n",
      "( 31 / 306 ) Mexican Resturants in Parkchester, Bronx:1\n",
      "( 32 / 306 ) Mexican Resturants in Westchester Square, Bronx:1\n",
      "( 33 / 306 ) Mexican Resturants in Van Nest, Bronx:0\n",
      "( 34 / 306 ) Mexican Resturants in Morris Park, Bronx:0\n",
      "( 35 / 306 ) Mexican Resturants in Belmont, Bronx:2\n",
      "( 36 / 306 ) Mexican Resturants in Spuyten Duyvil, Bronx:0\n",
      "( 37 / 306 ) Mexican Resturants in North Riverdale, Bronx:1\n",
      "( 38 / 306 ) Mexican Resturants in Pelham Bay, Bronx:1\n",
      "( 39 / 306 ) Mexican Resturants in Schuylerville, Bronx:2\n",
      "( 40 / 306 ) Mexican Resturants in Edgewater Park, Bronx:0\n",
      "( 41 / 306 ) Mexican Resturants in Castle Hill, Bronx:0\n",
      "( 42 / 306 ) Mexican Resturants in Olinville, Bronx:0\n",
      "( 43 / 306 ) Mexican Resturants in Pelham Gardens, Bronx:0\n",
      "( 44 / 306 ) Mexican Resturants in Concourse, Bronx:0\n",
      "( 45 / 306 ) Mexican Resturants in Unionport, Bronx:0\n",
      "( 46 / 306 ) Mexican Resturants in Edenwald, Bronx:0\n",
      "( 47 / 306 ) Mexican Resturants in Bay Ridge, Brooklyn:1\n",
      "( 48 / 306 ) Mexican Resturants in Bensonhurst, Brooklyn:0\n",
      "( 49 / 306 ) Mexican Resturants in Sunset Park, Brooklyn:3\n",
      "( 50 / 306 ) Mexican Resturants in Greenpoint, Brooklyn:1\n",
      "( 51 / 306 ) Mexican Resturants in Gravesend, Brooklyn:0\n",
      "( 52 / 306 ) Mexican Resturants in Brighton Beach, Brooklyn:0\n",
      "( 53 / 306 ) Mexican Resturants in Sheepshead Bay, Brooklyn:0\n",
      "( 54 / 306 ) Mexican Resturants in Manhattan Terrace, Brooklyn:0\n",
      "( 55 / 306 ) Mexican Resturants in Flatbush, Brooklyn:2\n",
      "( 56 / 306 ) Mexican Resturants in Crown Heights, Brooklyn:0\n",
      "( 57 / 306 ) Mexican Resturants in East Flatbush, Brooklyn:0\n",
      "( 58 / 306 ) Mexican Resturants in Kensington, Brooklyn:1\n",
      "( 59 / 306 ) Mexican Resturants in Windsor Terrace, Brooklyn:0\n",
      "( 60 / 306 ) Mexican Resturants in Prospect Heights, Brooklyn:5\n",
      "( 61 / 306 ) Mexican Resturants in Brownsville, Brooklyn:0\n",
      "( 62 / 306 ) Mexican Resturants in Williamsburg, Brooklyn:0\n",
      "( 63 / 306 ) Mexican Resturants in Bushwick, Brooklyn:5\n",
      "( 64 / 306 ) Mexican Resturants in Bedford Stuyvesant, Brooklyn:0\n",
      "( 65 / 306 ) Mexican Resturants in Brooklyn Heights, Brooklyn:3\n",
      "( 66 / 306 ) Mexican Resturants in Cobble Hill, Brooklyn:1\n",
      "( 67 / 306 ) Mexican Resturants in Carroll Gardens, Brooklyn:0\n",
      "( 68 / 306 ) Mexican Resturants in Red Hook, Brooklyn:0\n",
      "( 69 / 306 ) Mexican Resturants in Gowanus, Brooklyn:1\n",
      "( 70 / 306 ) Mexican Resturants in Fort Greene, Brooklyn:0\n",
      "( 71 / 306 ) Mexican Resturants in Park Slope, Brooklyn:1\n",
      "( 72 / 306 ) Mexican Resturants in Cypress Hills, Brooklyn:1\n",
      "( 73 / 306 ) Mexican Resturants in East New York, Brooklyn:0\n",
      "( 74 / 306 ) Mexican Resturants in Starrett City, Brooklyn:0\n",
      "( 75 / 306 ) Mexican Resturants in Canarsie, Brooklyn:0\n",
      "( 76 / 306 ) Mexican Resturants in Flatlands, Brooklyn:0\n",
      "( 77 / 306 ) Mexican Resturants in Mill Island, Brooklyn:0\n",
      "( 78 / 306 ) Mexican Resturants in Manhattan Beach, Brooklyn:0\n",
      "( 79 / 306 ) Mexican Resturants in Coney Island, Brooklyn:0\n",
      "( 80 / 306 ) Mexican Resturants in Bath Beach, Brooklyn:0\n",
      "( 81 / 306 ) Mexican Resturants in Borough Park, Brooklyn:0\n",
      "( 82 / 306 ) Mexican Resturants in Dyker Heights, Brooklyn:0\n",
      "( 83 / 306 ) Mexican Resturants in Gerritsen Beach, Brooklyn:0\n",
      "( 84 / 306 ) Mexican Resturants in Marine Park, Brooklyn:0\n",
      "( 85 / 306 ) Mexican Resturants in Clinton Hill, Brooklyn:4\n",
      "( 86 / 306 ) Mexican Resturants in Sea Gate, Brooklyn:0\n",
      "( 87 / 306 ) Mexican Resturants in Downtown, Brooklyn:0\n",
      "( 88 / 306 ) Mexican Resturants in Boerum Hill, Brooklyn:1\n",
      "( 89 / 306 ) Mexican Resturants in Prospect Lefferts Gardens, Brooklyn:0\n",
      "( 90 / 306 ) Mexican Resturants in Ocean Hill, Brooklyn:1\n",
      "( 91 / 306 ) Mexican Resturants in City Line, Brooklyn:1\n",
      "( 92 / 306 ) Mexican Resturants in Bergen Beach, Brooklyn:0\n",
      "( 93 / 306 ) Mexican Resturants in Midwood, Brooklyn:0\n",
      "( 94 / 306 ) Mexican Resturants in Prospect Park South, Brooklyn:2\n",
      "( 95 / 306 ) Mexican Resturants in Georgetown, Brooklyn:1\n",
      "( 96 / 306 ) Mexican Resturants in East Williamsburg, Brooklyn:3\n",
      "( 97 / 306 ) Mexican Resturants in North Side, Brooklyn:2\n",
      "( 98 / 306 ) Mexican Resturants in South Side, Brooklyn:2\n",
      "( 99 / 306 ) Mexican Resturants in Ocean Parkway, Brooklyn:0\n",
      "( 100 / 306 ) Mexican Resturants in Fort Hamilton, Brooklyn:1\n",
      "( 101 / 306 ) Mexican Resturants in Chinatown, Manhattan:2\n",
      "( 102 / 306 ) Mexican Resturants in Washington Heights, Manhattan:2\n",
      "( 103 / 306 ) Mexican Resturants in Inwood, Manhattan:4\n",
      "( 104 / 306 ) Mexican Resturants in Hamilton Heights, Manhattan:3\n",
      "( 105 / 306 ) Mexican Resturants in Manhattanville, Manhattan:2\n",
      "( 106 / 306 ) Mexican Resturants in Central Harlem, Manhattan:0\n",
      "( 107 / 306 ) Mexican Resturants in East Harlem, Manhattan:5\n",
      "( 108 / 306 ) Mexican Resturants in Upper East Side, Manhattan:1\n",
      "( 109 / 306 ) Mexican Resturants in Yorkville, Manhattan:3\n",
      "( 110 / 306 ) Mexican Resturants in Lenox Hill, Manhattan:2\n",
      "( 111 / 306 ) Mexican Resturants in Roosevelt Island, Manhattan:0\n",
      "( 112 / 306 ) Mexican Resturants in Upper West Side, Manhattan:0\n",
      "( 113 / 306 ) Mexican Resturants in Lincoln Square, Manhattan:0\n",
      "( 114 / 306 ) Mexican Resturants in Clinton, Manhattan:0\n",
      "( 115 / 306 ) Mexican Resturants in Midtown, Manhattan:0\n",
      "( 116 / 306 ) Mexican Resturants in Murray Hill, Manhattan:0\n",
      "( 117 / 306 ) Mexican Resturants in Chelsea, Manhattan:0\n",
      "( 118 / 306 ) Mexican Resturants in Greenwich Village, Manhattan:0\n",
      "( 119 / 306 ) Mexican Resturants in East Village, Manhattan:2\n",
      "( 120 / 306 ) Mexican Resturants in Lower East Side, Manhattan:0\n",
      "( 121 / 306 ) Mexican Resturants in Tribeca, Manhattan:0\n",
      "( 122 / 306 ) Mexican Resturants in Little Italy, Manhattan:0\n",
      "( 123 / 306 ) Mexican Resturants in Soho, Manhattan:0\n",
      "( 124 / 306 ) Mexican Resturants in West Village, Manhattan:0\n",
      "( 125 / 306 ) Mexican Resturants in Manhattan Valley, Manhattan:2\n",
      "( 126 / 306 ) Mexican Resturants in Morningside Heights, Manhattan:1\n",
      "( 127 / 306 ) Mexican Resturants in Gramercy, Manhattan:2\n",
      "( 128 / 306 ) Mexican Resturants in Battery Park City, Manhattan:1\n",
      "( 129 / 306 ) Mexican Resturants in Financial District, Manhattan:1\n",
      "( 130 / 306 ) Mexican Resturants in Astoria, Queens:1\n",
      "( 131 / 306 ) Mexican Resturants in Woodside, Queens:0\n",
      "( 132 / 306 ) Mexican Resturants in Jackson Heights, Queens:3\n",
      "( 133 / 306 ) Mexican Resturants in Elmhurst, Queens:4\n",
      "( 134 / 306 ) Mexican Resturants in Howard Beach, Queens:1\n",
      "( 135 / 306 ) Mexican Resturants in Corona, Queens:2\n",
      "( 136 / 306 ) Mexican Resturants in Forest Hills, Queens:0\n",
      "( 137 / 306 ) Mexican Resturants in Kew Gardens, Queens:0\n",
      "( 138 / 306 ) Mexican Resturants in Richmond Hill, Queens:0\n",
      "( 139 / 306 ) Mexican Resturants in Flushing, Queens:0\n",
      "( 140 / 306 ) Mexican Resturants in Long Island City, Queens:4\n"
     ]
    },
    {
     "name": "stdout",
     "output_type": "stream",
     "text": [
      "( 141 / 306 ) Mexican Resturants in Sunnyside, Queens:1\n",
      "( 142 / 306 ) Mexican Resturants in East Elmhurst, Queens:0\n",
      "( 143 / 306 ) Mexican Resturants in Maspeth, Queens:0\n",
      "( 144 / 306 ) Mexican Resturants in Ridgewood, Queens:1\n",
      "( 145 / 306 ) Mexican Resturants in Glendale, Queens:0\n",
      "( 146 / 306 ) Mexican Resturants in Rego Park, Queens:0\n",
      "( 147 / 306 ) Mexican Resturants in Woodhaven, Queens:0\n",
      "( 148 / 306 ) Mexican Resturants in Ozone Park, Queens:0\n",
      "( 149 / 306 ) Mexican Resturants in South Ozone Park, Queens:0\n",
      "( 150 / 306 ) Mexican Resturants in College Point, Queens:0\n",
      "( 151 / 306 ) Mexican Resturants in Whitestone, Queens:0\n",
      "( 152 / 306 ) Mexican Resturants in Bayside, Queens:2\n",
      "( 153 / 306 ) Mexican Resturants in Auburndale, Queens:0\n",
      "( 154 / 306 ) Mexican Resturants in Little Neck, Queens:0\n",
      "( 155 / 306 ) Mexican Resturants in Douglaston, Queens:0\n",
      "( 156 / 306 ) Mexican Resturants in Glen Oaks, Queens:1\n",
      "( 157 / 306 ) Mexican Resturants in Bellerose, Queens:0\n",
      "( 158 / 306 ) Mexican Resturants in Kew Gardens Hills, Queens:0\n",
      "( 159 / 306 ) Mexican Resturants in Fresh Meadows, Queens:0\n",
      "( 160 / 306 ) Mexican Resturants in Briarwood, Queens:1\n",
      "( 161 / 306 ) Mexican Resturants in Jamaica Center, Queens:2\n",
      "( 162 / 306 ) Mexican Resturants in Oakland Gardens, Queens:0\n",
      "( 163 / 306 ) Mexican Resturants in Queens Village, Queens:1\n",
      "( 164 / 306 ) Mexican Resturants in Hollis, Queens:0\n",
      "( 165 / 306 ) Mexican Resturants in South Jamaica, Queens:0\n",
      "( 166 / 306 ) Mexican Resturants in St. Albans, Queens:0\n",
      "( 167 / 306 ) Mexican Resturants in Rochdale, Queens:0\n",
      "( 168 / 306 ) Mexican Resturants in Springfield Gardens, Queens:0\n",
      "( 169 / 306 ) Mexican Resturants in Cambria Heights, Queens:0\n",
      "( 170 / 306 ) Mexican Resturants in Rosedale, Queens:0\n",
      "( 171 / 306 ) Mexican Resturants in Far Rockaway, Queens:0\n",
      "( 172 / 306 ) Mexican Resturants in Broad Channel, Queens:0\n",
      "( 173 / 306 ) Mexican Resturants in Breezy Point, Queens:0\n",
      "( 174 / 306 ) Mexican Resturants in Steinway, Queens:0\n",
      "( 175 / 306 ) Mexican Resturants in Beechhurst, Queens:0\n",
      "( 176 / 306 ) Mexican Resturants in Bay Terrace, Queens:0\n",
      "( 177 / 306 ) Mexican Resturants in Edgemere, Queens:0\n",
      "( 178 / 306 ) Mexican Resturants in Arverne, Queens:0\n",
      "( 179 / 306 ) Mexican Resturants in Rockaway Beach, Queens:0\n",
      "( 180 / 306 ) Mexican Resturants in Neponsit, Queens:0\n",
      "( 181 / 306 ) Mexican Resturants in Murray Hill, Queens:0\n",
      "( 182 / 306 ) Mexican Resturants in Floral Park, Queens:0\n",
      "( 183 / 306 ) Mexican Resturants in Holliswood, Queens:0\n",
      "( 184 / 306 ) Mexican Resturants in Jamaica Estates, Queens:0\n",
      "( 185 / 306 ) Mexican Resturants in Queensboro Hill, Queens:0\n",
      "( 186 / 306 ) Mexican Resturants in Hillcrest, Queens:0\n",
      "( 187 / 306 ) Mexican Resturants in Ravenswood, Queens:0\n",
      "( 188 / 306 ) Mexican Resturants in Lindenwood, Queens:0\n",
      "( 189 / 306 ) Mexican Resturants in Laurelton, Queens:0\n",
      "( 190 / 306 ) Mexican Resturants in Lefrak City, Queens:1\n",
      "( 191 / 306 ) Mexican Resturants in Belle Harbor, Queens:1\n",
      "( 192 / 306 ) Mexican Resturants in Rockaway Park, Queens:0\n",
      "( 193 / 306 ) Mexican Resturants in Somerville, Queens:0\n",
      "( 194 / 306 ) Mexican Resturants in Brookville, Queens:0\n",
      "( 195 / 306 ) Mexican Resturants in Bellaire, Queens:0\n",
      "( 196 / 306 ) Mexican Resturants in North Corona, Queens:1\n",
      "( 197 / 306 ) Mexican Resturants in Forest Hills Gardens, Queens:1\n",
      "( 198 / 306 ) Mexican Resturants in St. George, Staten Island:0\n",
      "( 199 / 306 ) Mexican Resturants in New Brighton, Staten Island:0\n",
      "( 200 / 306 ) Mexican Resturants in Stapleton, Staten Island:2\n",
      "( 201 / 306 ) Mexican Resturants in Rosebank, Staten Island:1\n",
      "( 202 / 306 ) Mexican Resturants in West Brighton, Staten Island:1\n",
      "( 203 / 306 ) Mexican Resturants in Grymes Hill, Staten Island:0\n",
      "( 204 / 306 ) Mexican Resturants in Todt Hill, Staten Island:0\n",
      "( 205 / 306 ) Mexican Resturants in South Beach, Staten Island:0\n",
      "( 206 / 306 ) Mexican Resturants in Port Richmond, Staten Island:1\n",
      "( 207 / 306 ) Mexican Resturants in Mariner's Harbor, Staten Island:0\n",
      "( 208 / 306 ) Mexican Resturants in Port Ivory, Staten Island:0\n",
      "( 209 / 306 ) Mexican Resturants in Castleton Corners, Staten Island:0\n",
      "( 210 / 306 ) Mexican Resturants in New Springville, Staten Island:1\n",
      "( 211 / 306 ) Mexican Resturants in Travis, Staten Island:0\n",
      "( 212 / 306 ) Mexican Resturants in New Dorp, Staten Island:1\n",
      "( 213 / 306 ) Mexican Resturants in Oakwood, Staten Island:0\n",
      "( 214 / 306 ) Mexican Resturants in Great Kills, Staten Island:1\n",
      "( 215 / 306 ) Mexican Resturants in Eltingville, Staten Island:0\n",
      "( 216 / 306 ) Mexican Resturants in Annadale, Staten Island:0\n",
      "( 217 / 306 ) Mexican Resturants in Woodrow, Staten Island:1\n",
      "( 218 / 306 ) Mexican Resturants in Tottenville, Staten Island:1\n",
      "( 219 / 306 ) Mexican Resturants in Tompkinsville, Staten Island:1\n",
      "( 220 / 306 ) Mexican Resturants in Silver Lake, Staten Island:0\n",
      "( 221 / 306 ) Mexican Resturants in Sunnyside, Staten Island:0\n",
      "( 222 / 306 ) Mexican Resturants in Ditmas Park, Brooklyn:1\n",
      "( 223 / 306 ) Mexican Resturants in Wingate, Brooklyn:0\n",
      "( 224 / 306 ) Mexican Resturants in Rugby, Brooklyn:0\n",
      "( 225 / 306 ) Mexican Resturants in Park Hill, Staten Island:0\n",
      "( 226 / 306 ) Mexican Resturants in Westerleigh, Staten Island:0\n",
      "( 227 / 306 ) Mexican Resturants in Graniteville, Staten Island:0\n",
      "( 228 / 306 ) Mexican Resturants in Arlington, Staten Island:0\n",
      "( 229 / 306 ) Mexican Resturants in Arrochar, Staten Island:0\n",
      "( 230 / 306 ) Mexican Resturants in Grasmere, Staten Island:0\n",
      "( 231 / 306 ) Mexican Resturants in Old Town, Staten Island:0\n",
      "( 232 / 306 ) Mexican Resturants in Dongan Hills, Staten Island:0\n",
      "( 233 / 306 ) Mexican Resturants in Midland Beach, Staten Island:0\n",
      "( 234 / 306 ) Mexican Resturants in Grant City, Staten Island:1\n",
      "( 235 / 306 ) Mexican Resturants in New Dorp Beach, Staten Island:0\n",
      "( 236 / 306 ) Mexican Resturants in Bay Terrace, Staten Island:0\n",
      "( 237 / 306 ) Mexican Resturants in Huguenot, Staten Island:0\n",
      "( 238 / 306 ) Mexican Resturants in Pleasant Plains, Staten Island:0\n",
      "( 239 / 306 ) Mexican Resturants in Butler Manor, Staten Island:0\n",
      "( 240 / 306 ) Mexican Resturants in Charleston, Staten Island:0\n",
      "( 241 / 306 ) Mexican Resturants in Rossville, Staten Island:0\n",
      "( 242 / 306 ) Mexican Resturants in Arden Heights, Staten Island:0\n",
      "( 243 / 306 ) Mexican Resturants in Greenridge, Staten Island:0\n",
      "( 244 / 306 ) Mexican Resturants in Heartland Village, Staten Island:0\n",
      "( 245 / 306 ) Mexican Resturants in Chelsea, Staten Island:0\n",
      "( 246 / 306 ) Mexican Resturants in Bloomfield, Staten Island:0\n",
      "( 247 / 306 ) Mexican Resturants in Bulls Head, Staten Island:0\n",
      "( 248 / 306 ) Mexican Resturants in Carnegie Hill, Manhattan:1\n",
      "( 249 / 306 ) Mexican Resturants in Noho, Manhattan:1\n",
      "( 250 / 306 ) Mexican Resturants in Civic Center, Manhattan:1\n",
      "( 251 / 306 ) Mexican Resturants in Midtown South, Manhattan:0\n",
      "( 252 / 306 ) Mexican Resturants in Richmond Town, Staten Island:0\n",
      "( 253 / 306 ) Mexican Resturants in Shore Acres, Staten Island:0\n",
      "( 254 / 306 ) Mexican Resturants in Clifton, Staten Island:2\n",
      "( 255 / 306 ) Mexican Resturants in Concord, Staten Island:0\n",
      "( 256 / 306 ) Mexican Resturants in Emerson Hill, Staten Island:0\n",
      "( 257 / 306 ) Mexican Resturants in Randall Manor, Staten Island:0\n",
      "( 258 / 306 ) Mexican Resturants in Howland Hook, Staten Island:0\n",
      "( 259 / 306 ) Mexican Resturants in Elm Park, Staten Island:0\n",
      "( 260 / 306 ) Mexican Resturants in Remsen Village, Brooklyn:0\n",
      "( 261 / 306 ) Mexican Resturants in New Lots, Brooklyn:0\n",
      "( 262 / 306 ) Mexican Resturants in Paerdegat Basin, Brooklyn:0\n",
      "( 263 / 306 ) Mexican Resturants in Mill Basin, Brooklyn:0\n",
      "( 264 / 306 ) Mexican Resturants in Jamaica Hills, Queens:0\n",
      "( 265 / 306 ) Mexican Resturants in Utopia, Queens:0\n",
      "( 266 / 306 ) Mexican Resturants in Pomonok, Queens:0\n",
      "( 267 / 306 ) Mexican Resturants in Astoria Heights, Queens:0\n",
      "( 268 / 306 ) Mexican Resturants in Claremont Village, Bronx:0\n",
      "( 269 / 306 ) Mexican Resturants in Concourse Village, Bronx:2\n",
      "( 270 / 306 ) Mexican Resturants in Mount Eden, Bronx:1\n",
      "( 271 / 306 ) Mexican Resturants in Mount Hope, Bronx:0\n",
      "( 272 / 306 ) Mexican Resturants in Sutton Place, Manhattan:2\n",
      "( 273 / 306 ) Mexican Resturants in Hunters Point, Queens:1\n",
      "( 274 / 306 ) Mexican Resturants in Turtle Bay, Manhattan:0\n",
      "( 275 / 306 ) Mexican Resturants in Tudor City, Manhattan:3\n"
     ]
    },
    {
     "name": "stdout",
     "output_type": "stream",
     "text": [
      "( 276 / 306 ) Mexican Resturants in Stuyvesant Town, Manhattan:0\n",
      "( 277 / 306 ) Mexican Resturants in Flatiron, Manhattan:0\n",
      "( 278 / 306 ) Mexican Resturants in Sunnyside Gardens, Queens:2\n",
      "( 279 / 306 ) Mexican Resturants in Blissville, Queens:0\n",
      "( 280 / 306 ) Mexican Resturants in Fulton Ferry, Brooklyn:1\n",
      "( 281 / 306 ) Mexican Resturants in Vinegar Hill, Brooklyn:0\n",
      "( 282 / 306 ) Mexican Resturants in Weeksville, Brooklyn:0\n",
      "( 283 / 306 ) Mexican Resturants in Broadway Junction, Brooklyn:1\n",
      "( 284 / 306 ) Mexican Resturants in Dumbo, Brooklyn:1\n",
      "( 285 / 306 ) Mexican Resturants in Manor Heights, Staten Island:0\n",
      "( 286 / 306 ) Mexican Resturants in Willowbrook, Staten Island:0\n",
      "( 287 / 306 ) Mexican Resturants in Sandy Ground, Staten Island:0\n",
      "( 288 / 306 ) Mexican Resturants in Egbertville, Staten Island:0\n",
      "( 289 / 306 ) Mexican Resturants in Roxbury, Queens:0\n",
      "( 290 / 306 ) Mexican Resturants in Homecrest, Brooklyn:2\n",
      "( 291 / 306 ) Mexican Resturants in Middle Village, Queens:0\n",
      "( 292 / 306 ) Mexican Resturants in Prince's Bay, Staten Island:0\n",
      "( 293 / 306 ) Mexican Resturants in Lighthouse Hill, Staten Island:0\n",
      "( 294 / 306 ) Mexican Resturants in Richmond Valley, Staten Island:1\n",
      "( 295 / 306 ) Mexican Resturants in Malba, Queens:0\n",
      "( 296 / 306 ) Mexican Resturants in Highland Park, Brooklyn:0\n",
      "( 297 / 306 ) Mexican Resturants in Madison, Brooklyn:0\n",
      "( 298 / 306 ) Mexican Resturants in Bronxdale, Bronx:1\n",
      "( 299 / 306 ) Mexican Resturants in Allerton, Bronx:1\n",
      "( 300 / 306 ) Mexican Resturants in Kingsbridge Heights, Bronx:2\n",
      "( 301 / 306 ) Mexican Resturants in Erasmus, Brooklyn:0\n",
      "( 302 / 306 ) Mexican Resturants in Hudson Yards, Manhattan:0\n",
      "( 303 / 306 ) Mexican Resturants in Hammels, Queens:0\n",
      "( 304 / 306 ) Mexican Resturants in Bayswater, Queens:0\n",
      "( 305 / 306 ) Mexican Resturants in Queensbridge, Queens:0\n",
      "( 306 / 306 ) Mexican Resturants in Fox Hills, Staten Island:0\n"
     ]
    }
   ],
   "source": [
    "# prepare neighborhood list that contains Mexican resturants\n",
    "column_names=['Borough', 'Neighborhood', 'ID','Name']\n",
    "mexican_rest_ny=pd.DataFrame(columns=column_names)\n",
    "count=1\n",
    "for row in new_york_data.values.tolist():\n",
    "    Borough, Neighborhood, Latitude, Longitude=row\n",
    "    venues = get_venues(Latitude,Longitude)\n",
    "    mexican_resturants=venues[venues['Category']=='Mexican Restaurant']   \n",
    "    print('(',count,'/',len(new_york_data),')','Mexican Resturants in '+Neighborhood+', '+Borough+':'+str(len(mexican_resturants)))\n",
    "    for resturant_detail in mexican_resturants.values.tolist():\n",
    "        id, name , category=resturant_detail\n",
    "        mexican_rest_ny = mexican_rest_ny.append({'Borough': Borough,\n",
    "                                                'Neighborhood': Neighborhood, \n",
    "                                                'ID': id,\n",
    "                                                'Name' : name\n",
    "                                               }, ignore_index=True)\n",
    "    count+=1"
   ]
  },
  {
   "cell_type": "markdown",
   "metadata": {},
   "source": [
    "We have now gotten all the Mexican Restaurants in New York City. It now time to analyze the data."
   ]
  },
  {
   "cell_type": "code",
   "execution_count": 290,
   "metadata": {},
   "outputs": [
    {
     "data": {
      "text/html": [
       "<div>\n",
       "<style scoped>\n",
       "    .dataframe tbody tr th:only-of-type {\n",
       "        vertical-align: middle;\n",
       "    }\n",
       "\n",
       "    .dataframe tbody tr th {\n",
       "        vertical-align: top;\n",
       "    }\n",
       "\n",
       "    .dataframe thead th {\n",
       "        text-align: right;\n",
       "    }\n",
       "</style>\n",
       "<table border=\"1\" class=\"dataframe\">\n",
       "  <thead>\n",
       "    <tr style=\"text-align: right;\">\n",
       "      <th></th>\n",
       "      <th>Borough</th>\n",
       "      <th>Neighborhood</th>\n",
       "      <th>ID</th>\n",
       "      <th>Name</th>\n",
       "    </tr>\n",
       "  </thead>\n",
       "  <tbody>\n",
       "    <tr>\n",
       "      <th>0</th>\n",
       "      <td>Bronx</td>\n",
       "      <td>Kingsbridge</td>\n",
       "      <td>5217dd2811d2d06ccafb77d3</td>\n",
       "      <td>Estrellita Poblana V</td>\n",
       "    </tr>\n",
       "    <tr>\n",
       "      <th>1</th>\n",
       "      <td>Bronx</td>\n",
       "      <td>Kingsbridge</td>\n",
       "      <td>4ce81d330f196dcb5d2b43ae</td>\n",
       "      <td>Picante Picante Mexican Restaurant</td>\n",
       "    </tr>\n",
       "    <tr>\n",
       "      <th>2</th>\n",
       "      <td>Bronx</td>\n",
       "      <td>Kingsbridge</td>\n",
       "      <td>553d5376498e322eb4d37a1b</td>\n",
       "      <td>Chipotle Mexican Grill</td>\n",
       "    </tr>\n",
       "    <tr>\n",
       "      <th>3</th>\n",
       "      <td>Bronx</td>\n",
       "      <td>Norwood</td>\n",
       "      <td>4e74ebead1643f93b1b05d2c</td>\n",
       "      <td>Queen of Tacos</td>\n",
       "    </tr>\n",
       "    <tr>\n",
       "      <th>4</th>\n",
       "      <td>Bronx</td>\n",
       "      <td>Baychester</td>\n",
       "      <td>58582b156431e554e165d909</td>\n",
       "      <td>Moe's Southwest Grill</td>\n",
       "    </tr>\n",
       "  </tbody>\n",
       "</table>\n",
       "</div>"
      ],
      "text/plain": [
       "  Borough Neighborhood                        ID  \\\n",
       "0   Bronx  Kingsbridge  5217dd2811d2d06ccafb77d3   \n",
       "1   Bronx  Kingsbridge  4ce81d330f196dcb5d2b43ae   \n",
       "2   Bronx  Kingsbridge  553d5376498e322eb4d37a1b   \n",
       "3   Bronx      Norwood  4e74ebead1643f93b1b05d2c   \n",
       "4   Bronx   Baychester  58582b156431e554e165d909   \n",
       "\n",
       "                                 Name  \n",
       "0                Estrellita Poblana V  \n",
       "1  Picante Picante Mexican Restaurant  \n",
       "2              Chipotle Mexican Grill  \n",
       "3                      Queen of Tacos  \n",
       "4               Moe's Southwest Grill  "
      ]
     },
     "execution_count": 290,
     "metadata": {},
     "output_type": "execute_result"
    }
   ],
   "source": [
    "mexican_rest_ny.head()"
   ]
  },
  {
   "cell_type": "code",
   "execution_count": 291,
   "metadata": {},
   "outputs": [
    {
     "data": {
      "text/plain": [
       "(161, 4)"
      ]
     },
     "execution_count": 291,
     "metadata": {},
     "output_type": "execute_result"
    }
   ],
   "source": [
    "mexican_rest_ny.shape"
   ]
  },
  {
   "cell_type": "markdown",
   "metadata": {},
   "source": [
    "We have got 161 Spanish Restaurants in New York City"
   ]
  },
  {
   "cell_type": "code",
   "execution_count": 292,
   "metadata": {},
   "outputs": [
    {
     "data": {
      "image/png": "[encoded data removed]",
      "text/plain": [
       "<Figure size 900x500 with 1 Axes>"
      ]
     },
     "metadata": {
      "needs_background": "light"
     },
     "output_type": "display_data"
    }
   ],
   "source": [
    "plt.figure(figsize=(9,5), dpi = 100)\n",
    "plt.title('Number of Mexican Resturants for each Borough in New York City')\n",
    "plt.xlabel('Borough', fontsize = 15)\n",
    "plt.ylabel('No.of Mexican Resturants', fontsize=15)\n",
    "mexican_rest_ny.groupby('Borough')['ID'].count().plot(kind='bar')\n",
    "plt.legend()\n",
    "plt.show()"
   ]
  },
  {
   "cell_type": "markdown",
   "metadata": {},
   "source": [
    "The above graph shows that we Brooklyn has the largest number of Spanish Resturants"
   ]
  },
  {
   "cell_type": "code",
   "execution_count": 293,
   "metadata": {},
   "outputs": [
    {
     "data": {
      "image/png": "[encoded data removed]",
      "text/plain": [
       "<Figure size 900x500 with 1 Axes>"
      ]
     },
     "metadata": {
      "needs_background": "light"
     },
     "output_type": "display_data"
    }
   ],
   "source": [
    "plt.figure(figsize=(9,5), dpi = 100)\n",
    "plt.title('Number of Mexican Resturants for each Neighborhood in New York City')\n",
    "plt.xlabel('Neighborhood', fontsize = 15)\n",
    "plt.ylabel('No.of Mexican Resturants', fontsize=15)\n",
    "mexican_rest_ny.groupby('Neighborhood')['ID'].count().nlargest(5).plot(kind='bar')\n",
    "plt.legend()\n",
    "plt.show()"
   ]
  },
  {
   "cell_type": "markdown",
   "metadata": {},
   "source": [
    "The above graph shows that Bushwick,East Harlem and Prospect Heights have the highest number of Mexican Restaurants with 5 restaurants each.\n",
    "Let's take a look at the Restaurants in Bushwick"
   ]
  },
  {
   "cell_type": "code",
   "execution_count": 296,
   "metadata": {
    "scrolled": false
   },
   "outputs": [
    {
     "data": {
      "text/html": [
       "<div>\n",
       "<style scoped>\n",
       "    .dataframe tbody tr th:only-of-type {\n",
       "        vertical-align: middle;\n",
       "    }\n",
       "\n",
       "    .dataframe tbody tr th {\n",
       "        vertical-align: top;\n",
       "    }\n",
       "\n",
       "    .dataframe thead th {\n",
       "        text-align: right;\n",
       "    }\n",
       "</style>\n",
       "<table border=\"1\" class=\"dataframe\">\n",
       "  <thead>\n",
       "    <tr style=\"text-align: right;\">\n",
       "      <th></th>\n",
       "      <th>Borough</th>\n",
       "      <th>Neighborhood</th>\n",
       "      <th>ID</th>\n",
       "      <th>Name</th>\n",
       "    </tr>\n",
       "  </thead>\n",
       "  <tbody>\n",
       "    <tr>\n",
       "      <th>31</th>\n",
       "      <td>Brooklyn</td>\n",
       "      <td>Bushwick</td>\n",
       "      <td>507c9d44e4b07390823b8d98</td>\n",
       "      <td>Taqueria Sofia</td>\n",
       "    </tr>\n",
       "    <tr>\n",
       "      <th>32</th>\n",
       "      <td>Brooklyn</td>\n",
       "      <td>Bushwick</td>\n",
       "      <td>54a5a765498e6b7e2ce128c8</td>\n",
       "      <td>El Kucho</td>\n",
       "    </tr>\n",
       "    <tr>\n",
       "      <th>33</th>\n",
       "      <td>Brooklyn</td>\n",
       "      <td>Bushwick</td>\n",
       "      <td>4a79c17ef964a52093e71fe3</td>\n",
       "      <td>El Sol de Cholula</td>\n",
       "    </tr>\n",
       "    <tr>\n",
       "      <th>34</th>\n",
       "      <td>Brooklyn</td>\n",
       "      <td>Bushwick</td>\n",
       "      <td>571ac9ed498e4010d9d69e53</td>\n",
       "      <td>Taqueria Santa Fe</td>\n",
       "    </tr>\n",
       "    <tr>\n",
       "      <th>35</th>\n",
       "      <td>Brooklyn</td>\n",
       "      <td>Bushwick</td>\n",
       "      <td>4dd6d110814d85e931ff48e4</td>\n",
       "      <td>Zefe's Mexican Restaurant</td>\n",
       "    </tr>\n",
       "  </tbody>\n",
       "</table>\n",
       "</div>"
      ],
      "text/plain": [
       "     Borough Neighborhood                        ID                       Name\n",
       "31  Brooklyn     Bushwick  507c9d44e4b07390823b8d98             Taqueria Sofia\n",
       "32  Brooklyn     Bushwick  54a5a765498e6b7e2ce128c8                   El Kucho\n",
       "33  Brooklyn     Bushwick  4a79c17ef964a52093e71fe3          El Sol de Cholula\n",
       "34  Brooklyn     Bushwick  571ac9ed498e4010d9d69e53          Taqueria Santa Fe\n",
       "35  Brooklyn     Bushwick  4dd6d110814d85e931ff48e4  Zefe's Mexican Restaurant"
      ]
     },
     "execution_count": 296,
     "metadata": {},
     "output_type": "execute_result"
    }
   ],
   "source": [
    "mexican_rest_ny[mexican_rest_ny['Neighborhood']=='Bushwick']"
   ]
  },
  {
   "cell_type": "markdown",
   "metadata": {},
   "source": [
    "Bushwick in Brooklyn a total of 5 Mexican Restaurants."
   ]
  },
  {
   "cell_type": "markdown",
   "metadata": {},
   "source": [
    "Now let's get the ranking of each resturant for further analysis."
   ]
  },
  {
   "cell_type": "code",
   "execution_count": 297,
   "metadata": {},
   "outputs": [
    {
     "name": "stdout",
     "output_type": "stream",
     "text": [
      "                         ID                  Name  Likes  Rating  Tips\n",
      "0  5217dd2811d2d06ccafb77d3  Estrellita Poblana V     24     8.1     8\n",
      "( 1 / 161 ) processed\n",
      "                         ID                                Name  Likes  \\\n",
      "0  4ce81d330f196dcb5d2b43ae  Picante Picante Mexican Restaurant     19   \n",
      "\n",
      "   Rating  Tips  \n",
      "0     7.9    14  \n",
      "( 2 / 161 ) processed\n",
      "                         ID                    Name  Likes  Rating  Tips\n",
      "0  553d5376498e322eb4d37a1b  Chipotle Mexican Grill     31     7.7     1\n",
      "( 3 / 161 ) processed\n",
      "                         ID            Name  Likes  Rating  Tips\n",
      "0  4e74ebead1643f93b1b05d2c  Queen of Tacos      5     7.4     7\n",
      "( 4 / 161 ) processed\n",
      "                         ID                   Name  Likes  Rating  Tips\n",
      "0  58582b156431e554e165d909  Moe's Southwest Grill      1     6.7     0\n",
      "( 5 / 161 ) processed\n",
      "                         ID                      Name  Likes  Rating  Tips\n",
      "0  4e4d0389bd413c4cc66dfd84  Las Maravillas De Mexico      6     7.2     3\n",
      "( 6 / 161 ) processed\n",
      "                         ID           Name  Likes  Rating  Tips\n",
      "0  4bab9998f964a520c8b73ae3  OK Mr. Pancho      6     7.0     4\n",
      "( 7 / 161 ) processed\n",
      "Empty DataFrame\n",
      "Columns: [ID, Name, Likes, Rating, Tips]\n",
      "Index: []\n",
      "No data available for id= 4efdeaa45c5c51dd2c838632\n",
      "( 8 / 161 ) processed\n",
      "                         ID           Name  Likes  Rating  Tips\n",
      "0  5591837d498ee4167d48bb73  Cinco de Mayo      8     6.8     3\n",
      "( 9 / 161 ) processed\n",
      "Empty DataFrame\n",
      "Columns: [ID, Name, Likes, Rating, Tips]\n",
      "Index: []\n",
      "No data available for id= 4e1796f0aeb7eb0120c2f796\n",
      "( 10 / 161 ) processed\n",
      "                         ID               Name  Likes  Rating  Tips\n",
      "0  4b4929d2f964a520656826e3  Taqueria Tlaxcali    131     9.1    73\n",
      "( 11 / 161 ) processed\n",
      "                         ID                   Name  Likes  Rating  Tips\n",
      "0  4b720280f964a520d9692de3  Estrellita Poblana IV     45     8.5    29\n",
      "( 12 / 161 ) processed\n",
      "                         ID                Name  Likes  Rating  Tips\n",
      "0  4c27e5e0fe6e2d7f4f84523c  Estrellita Poblana     66     8.5    37\n",
      "( 13 / 161 ) processed\n",
      "                         ID                    Name  Likes  Rating  Tips\n",
      "0  5529d964498ec65bfc27ad91  Chipotle Mexican Grill     24     6.6     5\n",
      "( 14 / 161 ) processed\n",
      "                         ID                          Name  Likes  Rating  Tips\n",
      "0  4ba174d5f964a52094b837e3  Carlos & Gabby's - Riverdale      9     7.2     8\n",
      "( 15 / 161 ) processed\n",
      "                         ID                      Name  Likes  Rating  Tips\n",
      "0  4bad4cebf964a520b8433be3  Mexico Magico Restaurant     13     7.9    18\n",
      "( 16 / 161 ) processed\n",
      "                         ID  Name  Likes  Rating  Tips\n",
      "0  53b89de7498e8be468fd777d  Cabo     33     8.3     6\n",
      "( 17 / 161 ) processed\n",
      "                         ID             Name  Likes  Rating  Tips\n",
      "0  4e7bca12183811c1da2694f2  Taqueria Lupita      5     7.3     3\n",
      "( 18 / 161 ) processed\n",
      "                         ID       Name  Likes  Rating  Tips\n",
      "0  5796884c498eef49acc7f06e  Lobo Loco     19     6.8     4\n",
      "( 19 / 161 ) processed\n",
      "                         ID             Name  Likes  Rating  Tips\n",
      "0  49bc364ff964a5201f541fe3  Tacos Matamoros    131     8.2    61\n",
      "( 20 / 161 ) processed\n",
      "                         ID         Name  Likes  Rating  Tips\n",
      "0  4b5415ecf964a520d3b127e3  Ricos Tacos     38     7.3    38\n",
      "( 21 / 161 ) processed\n",
      "                         ID                 Name  Likes  Rating  Tips\n",
      "0  4d6d976d792bb60cbdd156be  Tulcingo Restaurant      4     6.9     9\n",
      "( 22 / 161 ) processed\n",
      "                         ID      Name  Likes  Rating  Tips\n",
      "0  5a2b5dbdc0af5755f9b41a7a  Friducha     37     8.7     5\n",
      "( 23 / 161 ) processed\n",
      "                         ID                   Name  Likes  Rating  Tips\n",
      "0  52b1cc13498e28159d0fadb8  El Paso Mexican Grill     22     8.1    11\n",
      "( 24 / 161 ) processed\n",
      "                         ID         Name  Likes  Rating  Tips\n",
      "0  4b92e166f964a520062434e3  Don Burrito     11     6.8    11\n",
      "( 25 / 161 ) processed\n",
      "                         ID        Name  Likes  Rating  Tips\n",
      "0  4c0c4663340720a1e17d8993  El Mirador      5     7.7     3\n",
      "( 26 / 161 ) processed\n",
      "                         ID              Name  Likes  Rating  Tips\n",
      "0  54d407db498eca36438fc5d3  Nacho Macho Taco     96     8.6    32\n",
      "( 27 / 161 ) processed\n",
      "                         ID     Name  Likes  Rating  Tips\n",
      "0  53361829498eb42538181b8d  Citrico     47     7.4    17\n",
      "( 28 / 161 ) processed\n",
      "                         ID                 Name  Likes  Rating  Tips\n",
      "0  5c942e786eda02002cb33180  Mexicocina Agaveria      3     7.3     4\n",
      "( 29 / 161 ) processed\n",
      "                         ID          Name  Likes  Rating  Tips\n",
      "0  58b74644a6118c72d7ab0b4b  Alta Calidad    169     8.6    43\n",
      "( 30 / 161 ) processed\n",
      "                         ID           Name  Likes  Rating  Tips\n",
      "0  4b54c4adf964a5207ccb27e3  Maya Taqueria     95     7.5    38\n",
      "( 31 / 161 ) processed\n",
      "                         ID            Name  Likes  Rating  Tips\n",
      "0  507c9d44e4b07390823b8d98  Taqueria Sofia     80     8.6    38\n",
      "( 32 / 161 ) processed\n",
      "                         ID      Name  Likes  Rating  Tips\n",
      "0  54a5a765498e6b7e2ce128c8  El Kucho     40     8.3    15\n",
      "( 33 / 161 ) processed\n",
      "                         ID               Name  Likes  Rating  Tips\n",
      "0  4a79c17ef964a52093e71fe3  El Sol de Cholula     15     7.7     3\n",
      "( 34 / 161 ) processed\n",
      "                         ID               Name  Likes  Rating  Tips\n",
      "0  571ac9ed498e4010d9d69e53  Taqueria Santa Fe     21     8.3     9\n",
      "( 35 / 161 ) processed\n",
      "                         ID                       Name  Likes  Rating  Tips\n",
      "0  4dd6d110814d85e931ff48e4  Zefe's Mexican Restaurant     10     7.2     5\n",
      "( 36 / 161 ) processed\n",
      "                         ID                     Name  Likes  Rating  Tips\n",
      "0  5c119dac829b0c002c9799b8  Grand Canyon Restaurant     11     8.5     0\n",
      "( 37 / 161 ) processed\n",
      "                         ID                    Name  Likes  Rating  Tips\n",
      "0  53dd1f41498efb39049ce081  Chipotle Mexican Grill     64     7.4     6\n",
      "( 38 / 161 ) processed\n",
      "                         ID               Name  Likes  Rating  Tips\n",
      "0  52a90a1a498e989e222e0560  Gallito's Kitchen     40     6.6    15\n",
      "( 39 / 161 ) processed\n",
      "                         ID  Name  Likes  Rating  Tips\n",
      "0  4116be80f964a520050c1fe3  Alma    233     8.0   132\n",
      "( 40 / 161 ) processed\n",
      "                         ID          Name  Likes  Rating  Tips\n",
      "0  502bc1d0e4b040e2ae32962e  La Slowteria     90     8.3    47\n",
      "( 41 / 161 ) processed\n",
      "                         ID                    Name  Likes  Rating  Tips\n",
      "0  57781fab498ee216fb58a39c  Chipotle Mexican Grill     16     7.1     1\n",
      "( 42 / 161 ) processed\n",
      "Empty DataFrame\n",
      "Columns: [ID, Name, Likes, Rating, Tips]\n",
      "Index: []\n",
      "No data available for id= 5814932438fa2127480f4cf3\n",
      "( 43 / 161 ) processed\n",
      "                         ID                    Name  Likes  Rating  Tips\n",
      "0  56086b40498e48b257697061  Chipotle Mexican Grill     16     7.6     1\n",
      "( 44 / 161 ) processed\n",
      "                         ID     Name  Likes  Rating  Tips\n",
      "0  42829c80f964a52053221fe3  Castros     57     7.6    43\n",
      "( 45 / 161 ) processed\n",
      "                         ID          Name  Likes  Rating  Tips\n",
      "0  588e651ed98f3662f28aff16  Villa Pancho      8     7.2     4\n",
      "( 46 / 161 ) processed\n",
      "                         ID              Name  Likes  Rating  Tips\n",
      "0  4ba4e92ef964a5200bc238e3  Los Pollitos III     36     6.5    33\n",
      "( 47 / 161 ) processed\n",
      "                         ID                    Name  Likes  Rating  Tips\n",
      "0  5c436d760d8a0f0039eb3f78  Chipotle Mexican Grill      2     7.5     0\n",
      "( 48 / 161 ) processed\n",
      "Empty DataFrame\n",
      "Columns: [ID, Name, Likes, Rating, Tips]\n",
      "Index: []\n",
      "No data available for id= 5c2ebc4b60255e002ce8a235\n",
      "( 49 / 161 ) processed\n",
      "Empty DataFrame\n",
      "Columns: [ID, Name, Likes, Rating, Tips]\n",
      "Index: []\n",
      "No data available for id= 5814932438fa2127480f4cf3\n",
      "( 50 / 161 ) processed\n",
      "                         ID                     Name  Likes  Rating  Tips\n",
      "0  5491cc2b498ea98016a548b2  Mallenche Mexican Grill     12     7.2     2\n",
      "( 51 / 161 ) processed\n",
      "                         ID                Name  Likes  Rating  Tips\n",
      "0  596938a0a22db76efcd439a6  Los Tres Chiflados      5     7.3     2\n",
      "( 52 / 161 ) processed\n",
      "                         ID                    Name  Likes  Rating  Tips\n",
      "0  5c26849c64c8e1003979056d  Chipotle Mexican Grill      2     7.5     0\n",
      "( 53 / 161 ) processed\n"
     ]
    },
    {
     "name": "stdout",
     "output_type": "stream",
     "text": [
      "                         ID           Name  Likes  Rating  Tips\n",
      "0  59fbcf0a0457b7018e001f75  Tacos Project     22     7.5    11\n",
      "( 54 / 161 ) processed\n",
      "                         ID                 Name  Likes  Rating  Tips\n",
      "0  4a1b00edf964a520bb7a1fe3  Antojitos Mexicanos     12     7.6    13\n",
      "( 55 / 161 ) processed\n",
      "                         ID        Name  Likes  Rating  Tips\n",
      "0  509d5ab2e4b029db3cfdced5  Pedro's II     12     5.9     5\n",
      "( 56 / 161 ) processed\n",
      "                         ID     Name  Likes  Rating  Tips\n",
      "0  5db7884023aa41000849fc46  Tacombi     22     8.6     6\n",
      "( 57 / 161 ) processed\n",
      "                         ID                  Name  Likes  Rating  Tips\n",
      "0  51c4c6de498edf95246e0072  Cerveceria Havemeyer    179     8.1    55\n",
      "( 58 / 161 ) processed\n",
      "                         ID                  Name  Likes  Rating  Tips\n",
      "0  51c4c6de498edf95246e0072  Cerveceria Havemeyer    179     8.1    55\n",
      "( 59 / 161 ) processed\n",
      "                         ID     Name  Likes  Rating  Tips\n",
      "0  5db7884023aa41000849fc46  Tacombi     22     8.6     6\n",
      "( 60 / 161 ) processed\n",
      "                         ID                Name  Likes  Rating  Tips\n",
      "0  52bb513f498ed5d17e37d5d3  Taqueria El Puente      6     6.5     4\n",
      "( 61 / 161 ) processed\n",
      "                         ID           Name  Likes  Rating  Tips\n",
      "0  5885471a0037eb3b6c2973d2  Factory Tamal     29     8.5    11\n",
      "( 62 / 161 ) processed\n",
      "                         ID                     Name  Likes  Rating  Tips\n",
      "0  58f55261419a9e48f4dd0706  JaJaJa Plantas Mexicana    173     8.9    48\n",
      "( 63 / 161 ) processed\n",
      "                         ID                              Name  Likes  Rating  \\\n",
      "0  4b2c33d0f964a520aac324e3  Refried Beans Mexican Restaurant     62     7.1   \n",
      "\n",
      "   Tips  \n",
      "0    37  \n",
      "( 64 / 161 ) processed\n",
      "                         ID         Name  Likes  Rating  Tips\n",
      "0  4ee2bbe8775b86c4028dec5d  Mi Ranchito      6     6.1     2\n",
      "( 65 / 161 ) processed\n",
      "                         ID                     Name  Likes  Rating  Tips\n",
      "0  4b0885d1f964a520a20d23e3  Guadalupe Bar and Grill    103     8.5    45\n",
      "( 66 / 161 ) processed\n",
      "                         ID            Name  Likes  Rating  Tips\n",
      "0  53e58cd0498e01b8fae39b41  Made in Mexico     38     7.7     6\n",
      "( 67 / 161 ) processed\n",
      "                         ID       Name  Likes  Rating  Tips\n",
      "0  5830ff3044587f7beb2271cc  Guacamole     13     8.1     2\n",
      "( 68 / 161 ) processed\n",
      "                         ID    Name  Likes  Rating  Tips\n",
      "0  4d824d2dbede548186840fd1  Azteca      1     6.9     4\n",
      "( 69 / 161 ) processed\n",
      "                         ID Name  Likes  Rating  Tips\n",
      "0  57274808498e7db363dcc4bc  Oso     58     8.2    18\n",
      "( 70 / 161 ) processed\n",
      "                         ID         Name  Likes  Rating  Tips\n",
      "0  575a15f6498e0db46deded82  Frijolito's     14     8.0     7\n",
      "( 71 / 161 ) processed\n",
      "                         ID                            Name  Likes  Rating  \\\n",
      "0  534aace3498e249ceb4111dc  Agave Mexican & American Grill     14     7.2   \n",
      "\n",
      "   Tips  \n",
      "0     8  \n",
      "( 72 / 161 ) processed\n",
      "                         ID       Name  Likes  Rating  Tips\n",
      "0  4acfe332f964a520afd620e3  El Porton     40     7.8    24\n",
      "( 73 / 161 ) processed\n",
      "                         ID      Name  Likes  Rating  Tips\n",
      "0  4bd4e5076798ef3b92a6628d  Chinelos      6     8.2     7\n",
      "( 74 / 161 ) processed\n",
      "                         ID                    Name  Likes  Rating  Tips\n",
      "0  5221402b11d2f5e7ec7c37e8  Cascolate Latin Bistro     31     8.3    28\n",
      "( 75 / 161 ) processed\n",
      "                         ID                 Name  Likes  Rating  Tips\n",
      "0  53892262498ef00115e1cb9d  Lupita's Restaurant     18     8.1     4\n",
      "( 76 / 161 ) processed\n",
      "                         ID       Name  Likes  Rating  Tips\n",
      "0  4ed825e98231efe38cad7306  El Aguila     73     8.1    28\n",
      "( 77 / 161 ) processed\n",
      "                         ID        Name  Likes  Rating  Tips\n",
      "0  4b4b5e8cf964a520039926e3  Cafe Ollin     89     8.3    43\n",
      "( 78 / 161 ) processed\n",
      "                         ID                 Name  Likes  Rating  Tips\n",
      "0  5113f1e2e4b095b57d329466  Lupita's Restaurant      8     6.7     9\n",
      "( 79 / 161 ) processed\n",
      "                         ID         Name  Likes  Rating  Tips\n",
      "0  4e972a527bebee95ad73a290  Toloache 82    234     8.6    90\n",
      "( 80 / 161 ) processed\n",
      "                         ID        Name  Likes  Rating  Tips\n",
      "0  49f33ef2f964a520766a1fe3  Maz Mezcal    118     8.3    57\n",
      "( 81 / 161 ) processed\n",
      "                         ID     Name  Likes  Rating  Tips\n",
      "0  59125f8189e4907f68b07815  Conmigo     37     7.4    15\n",
      "( 82 / 161 ) processed\n",
      "                         ID            Name  Likes  Rating  Tips\n",
      "0  4c1fbbd9b4e62d7f2c19e093  Sabor a Mexico     29     7.6    22\n",
      "( 83 / 161 ) processed\n",
      "                         ID                    Name  Likes  Rating  Tips\n",
      "0  51fdb573498ea9380b61aa55  Chipotle Mexican Grill     63     7.8    10\n",
      "( 84 / 161 ) processed\n",
      "                         ID                             Name  Likes  Rating  \\\n",
      "0  518453c7498e3f3fef5f0708  Two Lizards Mexican Bar & Grill     92     7.6   \n",
      "\n",
      "   Tips  \n",
      "0    50  \n",
      "( 85 / 161 ) processed\n",
      "                         ID                Name  Likes  Rating  Tips\n",
      "0  54f90055498e6ce6a801f8f3  Taqueria St. Marks    338     9.0    64\n",
      "( 86 / 161 ) processed\n",
      "                         ID                           Name  Likes  Rating  \\\n",
      "0  49e80026f964a52037651fe3  Zaragoza Mexican Deli-Grocery    188     8.4   \n",
      "\n",
      "   Tips  \n",
      "0   106  \n",
      "( 87 / 161 ) processed\n",
      "                         ID              Name  Likes  Rating  Tips\n",
      "0  4a32f3cef964a520d19a1fe3  Taqueria Y Fonda    124     8.1    63\n",
      "( 88 / 161 ) processed\n",
      "                         ID     Name  Likes  Rating  Tips\n",
      "0  5505a84f498e24eaeb0fd3ea  Panchos      7     7.3     1\n",
      "( 89 / 161 ) processed\n",
      "                         ID                Name  Likes  Rating  Tips\n",
      "0  5e4588b27c99ac0008a9437b  Dos Toros Taqueria      0     7.9     0\n",
      "( 90 / 161 ) processed\n",
      "                         ID               Name  Likes  Rating  Tips\n",
      "0  5b6e2e356adbf5002c7bc64c  Taqueria Gramercy     45     8.7    11\n",
      "( 91 / 161 ) processed\n",
      "                         ID                    Name  Likes  Rating  Tips\n",
      "0  5648cc90498e7aac04fb1a60  Chipotle Mexican Grill     22     7.1     0\n",
      "( 92 / 161 ) processed\n",
      "                         ID                    Name  Likes  Rating  Tips\n",
      "0  554ce3f0498e5e644ef0ab8a  Chipotle Mexican Grill     39     7.2     5\n",
      "( 93 / 161 ) processed\n",
      "                         ID                             Name  Likes  Rating  \\\n",
      "0  4a15a2e8f964a520a9781fe3  Mad Dog & Beans Mexican Cantina    395     7.8   \n",
      "\n",
      "   Tips  \n",
      "0   176  \n",
      "( 94 / 161 ) processed\n",
      "                         ID       Name  Likes  Rating  Tips\n",
      "0  5dd0a68e832e520008369b09  Viva Viva     10     8.4     6\n",
      "( 95 / 161 ) processed\n",
      "                         ID                   Name  Likes  Rating  Tips\n",
      "0  4b91ca34f964a5209fd733e3  Tacos Mi Mexico Lindo     12     8.4    10\n",
      "( 96 / 161 ) processed\n",
      "                         ID        Name  Likes  Rating  Tips\n",
      "0  51e248ef498e6768a842bff1  Taco Veloz      9     7.4     3\n",
      "( 97 / 161 ) processed\n",
      "                         ID                    Name  Likes  Rating  Tips\n",
      "0  568ab53d498e748783593ebe  Chipotle Mexican Grill      9     6.8     2\n",
      "( 98 / 161 ) processed\n",
      "                         ID                   Name  Likes  Rating  Tips\n",
      "0  4b91ca34f964a5209fd733e3  Tacos Mi Mexico Lindo     12     8.4    10\n",
      "( 99 / 161 ) processed\n",
      "                         ID                     Name  Likes  Rating  Tips\n",
      "0  54c63464498e753931c565da  Juquila Mexican Cuisine     21     8.1     4\n",
      "( 100 / 161 ) processed\n",
      "                         ID                               Name  Likes  Rating  \\\n",
      "0  5251b0b811d2e79764fd8bc7  Genesis Mexican Authentic Cuisine     10     8.4   \n",
      "\n",
      "   Tips  \n",
      "0     2  \n",
      "( 101 / 161 ) processed\n",
      "                         ID                             Name  Likes  Rating  \\\n",
      "0  53cc56bc498e5a7d7b0def8e  La Esquina Del Camaron Mexicano     11     7.9   \n",
      "\n",
      "   Tips  \n",
      "0     3  \n",
      "( 102 / 161 ) processed\n",
      "                         ID                    Name  Likes  Rating  Tips\n",
      "0  5bb103e28110450039b559ab  Chipotle Mexican Grill      3     7.5     0\n",
      "( 103 / 161 ) processed\n",
      "                         ID                                            Name  \\\n",
      "0  5982f0d5f5e9d71716cdc9d5  Cienega Las Tlayudas de Oaxaca Mexican Cuisine   \n",
      "\n",
      "   Likes  Rating  Tips  \n",
      "0      9     7.9     3  \n",
      "( 104 / 161 ) processed\n"
     ]
    },
    {
     "name": "stdout",
     "output_type": "stream",
     "text": [
      "                         ID       Name  Likes  Rating  Tips\n",
      "0  4f93adc2e4b08038d80dea72  Mi Cocina      1     7.0     4\n",
      "( 105 / 161 ) processed\n",
      "                         ID    Name  Likes  Rating  Tips\n",
      "0  5a8eeaeff4b5255793fb12d3  Waheyo      9     8.3     3\n",
      "( 106 / 161 ) processed\n",
      "                         ID             Name  Likes  Rating  Tips\n",
      "0  57f44dfa498e13c278fa4925  Gordo's Cantina     40     7.4    14\n",
      "( 107 / 161 ) processed\n",
      "                         ID                    Name  Likes  Rating  Tips\n",
      "0  57f54617498e2cb89939bbfc  Chipotle Mexican Grill     31     8.2     5\n",
      "( 108 / 161 ) processed\n",
      "                         ID     Name  Likes  Rating  Tips\n",
      "0  4bd620d27b1876b033108c86  Momento     14     6.5     5\n",
      "( 109 / 161 ) processed\n",
      "                         ID             Name  Likes  Rating  Tips\n",
      "0  4c38e20aae2da593da8c01c6  Mi Nuevo Rancho      4     6.0     3\n",
      "( 110 / 161 ) processed\n",
      "                         ID              Name  Likes  Rating  Tips\n",
      "0  51609091498eedc7cf34d817  Taquerias Kermes     50     8.6    28\n",
      "( 111 / 161 ) processed\n",
      "                         ID             Name  Likes  Rating  Tips\n",
      "0  4b5a51ddf964a520e7bc28e3  Tequila Sunrise     36     7.0    28\n",
      "( 112 / 161 ) processed\n",
      "                         ID           Name  Likes  Rating  Tips\n",
      "0  4babe1e3f964a520e6d13ae3  Cinco De Mayo     26     6.7    23\n",
      "( 113 / 161 ) processed\n",
      "Empty DataFrame\n",
      "Columns: [ID, Name, Likes, Rating, Tips]\n",
      "Index: []\n",
      "No data available for id= 4c00381aca1920a16a0eee81\n",
      "( 114 / 161 ) processed\n",
      "Empty DataFrame\n",
      "Columns: [ID, Name, Likes, Rating, Tips]\n",
      "Index: []\n",
      "No data available for id= 4c953d1658d4b60c8c923029\n",
      "( 115 / 161 ) processed\n",
      "                         ID        Name  Likes  Rating  Tips\n",
      "0  56153d98498ea3c98dd59e71  Don Nico's     23     8.8     5\n",
      "( 116 / 161 ) processed\n",
      "                         ID                    Name  Likes  Rating  Tips\n",
      "0  5a74e9b8a4c39c7583d2c6aa  Chipotle Mexican Grill      4     7.2     3\n",
      "( 117 / 161 ) processed\n",
      "Empty DataFrame\n",
      "Columns: [ID, Name, Likes, Rating, Tips]\n",
      "Index: []\n",
      "No data available for id= 5707e489498e9e882aefab3e\n",
      "( 118 / 161 ) processed\n",
      "                         ID                    Name  Likes  Rating  Tips\n",
      "0  58335576b50d520d9954f4fb  Chipotle Mexican Grill      3     7.3     0\n",
      "( 119 / 161 ) processed\n",
      "                         ID  Name  Likes  Rating  Tips\n",
      "0  52606a9f498ee1a7b1b262d3  Pico     57     8.4    17\n",
      "( 120 / 161 ) processed\n",
      "                         ID                Name  Likes  Rating  Tips\n",
      "0  4bd1c94c046076b076737271  Los Tres Potrillos      2     6.3     3\n",
      "( 121 / 161 ) processed\n",
      "                         ID                        Name  Likes  Rating  Tips\n",
      "0  4ba3f7a9f964a520847238e3  Happy Fresh Tortilla Grill      3     6.4     7\n",
      "( 122 / 161 ) processed\n",
      "                         ID                                Name  Likes  \\\n",
      "0  53ba2986498efc27ecf908d4  El Patron Restaurant & Lounge Inc.     11   \n",
      "\n",
      "   Rating  Tips  \n",
      "0     7.3     4  \n",
      "( 123 / 161 ) processed\n",
      "                         ID     Name  Likes  Rating  Tips\n",
      "0  5a0e4a053149b93aaa628cc8  Gringos      7     7.1     3\n",
      "( 124 / 161 ) processed\n",
      "                         ID    Name  Likes  Rating  Tips\n",
      "0  548a376f498ed35b87006f24  Maizal      6     7.1     4\n",
      "( 125 / 161 ) processed\n",
      "                         ID         Name  Likes  Rating  Tips\n",
      "0  4be60a50bcef2d7fa3bb04e5  Burrito Bar     70     7.2    46\n",
      "( 126 / 161 ) processed\n",
      "Empty DataFrame\n",
      "Columns: [ID, Name, Likes, Rating, Tips]\n",
      "Index: []\n",
      "No data available for id= 4c422984520fa593c5cdcaac\n",
      "( 127 / 161 ) processed\n",
      "                         ID                Name  Likes  Rating  Tips\n",
      "0  4f8f480ce4b06b50aec5da08  QDOBA Mexican Eats     23     6.8    11\n",
      "( 128 / 161 ) processed\n",
      "                         ID              Name  Likes  Rating  Tips\n",
      "0  4f5d5bb5e4b035e31551ddc9  Cantina Mexicana      9     7.2    11\n",
      "( 129 / 161 ) processed\n",
      "Empty DataFrame\n",
      "Columns: [ID, Name, Likes, Rating, Tips]\n",
      "Index: []\n",
      "No data available for id= 50b67aa1e4b060c7924d8e98\n",
      "( 130 / 161 ) processed\n",
      "                         ID                Name  Likes  Rating  Tips\n",
      "0  58ca4ef615fb435cb5b8b9d0  QDOBA Mexican Eats      2     7.1     0\n",
      "( 131 / 161 ) processed\n",
      "Empty DataFrame\n",
      "Columns: [ID, Name, Likes, Rating, Tips]\n",
      "Index: []\n",
      "No data available for id= 599caee17564f7406e111717\n",
      "( 132 / 161 ) processed\n",
      "                         ID                      Name  Likes  Rating  Tips\n",
      "0  4bbfd2712a89ef3b82afef88  Taqueria El Gallo Azteca     12     7.3    11\n",
      "( 133 / 161 ) processed\n",
      "                         ID                Name  Likes  Rating  Tips\n",
      "0  596938a0a22db76efcd439a6  Los Tres Chiflados      5     7.3     2\n",
      "( 134 / 161 ) processed\n",
      "                         ID                   Name  Likes  Rating  Tips\n",
      "0  4b5c9f60f964a520773a29e3  Moe's Southwest Grill     37     6.5    20\n",
      "( 135 / 161 ) processed\n",
      "                         ID             Name  Likes  Rating  Tips\n",
      "0  4f63c8e3e4b09b9cd92afeae  Mole Restaurant    141     7.5    73\n",
      "( 136 / 161 ) processed\n",
      "                         ID   Name  Likes  Rating  Tips\n",
      "0  4f402ae1e4b0e5bc120e3876  Fonda    443     8.4   177\n",
      "( 137 / 161 ) processed\n",
      "                         ID           Name  Likes  Rating  Tips\n",
      "0  53ecff6c498e4189764e35ec  Anejo Tribeca    155     7.3    49\n",
      "( 138 / 161 ) processed\n",
      "                         ID    Name  Likes  Rating  Tips\n",
      "0  548a376f498ed35b87006f24  Maizal      6     7.1     4\n",
      "( 139 / 161 ) processed\n",
      "Empty DataFrame\n",
      "Columns: [ID, Name, Likes, Rating, Tips]\n",
      "Index: []\n",
      "No data available for id= 54d69da4498ee4139d7e4983\n",
      "( 140 / 161 ) processed\n",
      "                         ID                    Name  Likes  Rating  Tips\n",
      "0  58d3f7f79435a92450b97b0d  Chipotle Mexican Grill      3     7.3     0\n",
      "( 141 / 161 ) processed\n",
      "                         ID           Name  Likes  Rating  Tips\n",
      "0  5591837d498ee4167d48bb73  Cinco de Mayo      8     6.8     3\n",
      "( 142 / 161 ) processed\n",
      "Empty DataFrame\n",
      "Columns: [ID, Name, Likes, Rating, Tips]\n",
      "Index: []\n",
      "No data available for id= 593336ef66fc654618b5afcf\n",
      "( 143 / 161 ) processed\n",
      "                         ID           Name  Likes  Rating  Tips\n",
      "0  42a4e380f964a520f7241fe3  Rosa Mexicano    209     8.6    70\n",
      "( 144 / 161 ) processed\n",
      "                         ID             Name  Likes  Rating  Tips\n",
      "0  56ca53ffcd101492d324f923  Oaxaca Taqueria     19     6.5    10\n",
      "( 145 / 161 ) processed\n",
      "                         ID          Name  Likes  Rating  Tips\n",
      "0  4f62afe7e4b09b9cd8b354f6  Casa Enrique    673     9.1   231\n",
      "( 146 / 161 ) processed\n",
      "                         ID        Name  Likes  Rating  Tips\n",
      "0  3fd66200f964a5205ee31ee3  El Parador    159     8.3    95\n",
      "( 147 / 161 ) processed\n",
      "                         ID               Name  Likes  Rating  Tips\n",
      "0  3fd66200f964a52049e71ee3  Baby Bo's Cantina    183     8.3   120\n",
      "( 148 / 161 ) processed\n",
      "                         ID                    Name  Likes  Rating  Tips\n",
      "0  5065bdbee4b0a44a76ae8083  Chipotle Mexican Grill     91     7.0    20\n",
      "( 149 / 161 ) processed\n",
      "                         ID             Name  Likes  Rating  Tips\n",
      "0  4de9baa545dd3993a879cd99  El Rey Del Taco      6     7.2     1\n",
      "( 150 / 161 ) processed\n",
      "                         ID                                    Name  Likes  \\\n",
      "0  56218d22498ef80198e4bee7  Chihuahua Mexican Restaurant & Cantina     13   \n",
      "\n",
      "   Rating  Tips  \n",
      "0     7.4     5  \n",
      "( 151 / 161 ) processed\n",
      "                         ID            Name  Likes  Rating  Tips\n",
      "0  4f69f2b76d86f87117bb13ab  Gran Eléctrica    637     8.6   200\n",
      "( 152 / 161 ) processed\n",
      "Empty DataFrame\n",
      "Columns: [ID, Name, Likes, Rating, Tips]\n",
      "Index: []\n",
      "No data available for id= 564f8a99498effb01a12f3ac\n",
      "( 153 / 161 ) processed\n",
      "                         ID            Name  Likes  Rating  Tips\n",
      "0  4f69f2b76d86f87117bb13ab  Gran Eléctrica    637     8.6   200\n",
      "( 154 / 161 ) processed\n",
      "                         ID                                Name  Likes  \\\n",
      "0  507e08fae4b0998ce3421276  El Mexicano Restaurante & Cafe Inc     15   \n",
      "\n",
      "   Rating  Tips  \n",
      "0     7.9     8  \n",
      "( 155 / 161 ) processed\n",
      "                         ID                           Name  Likes  Rating  \\\n",
      "0  4a3ada26f964a5205fa01fe3  La Villita Mexican Restaurant      8     6.1   \n",
      "\n",
      "   Tips  \n",
      "0     6  \n",
      "( 156 / 161 ) processed\n",
      "                         ID                 Name  Likes  Rating  Tips\n",
      "0  52aa599011d250326f249f53  Qdoba Mexican Grill      4     6.8     0\n",
      "( 157 / 161 ) processed\n"
     ]
    },
    {
     "name": "stdout",
     "output_type": "stream",
     "text": [
      "                         ID        Name  Likes  Rating  Tips\n",
      "0  4e98cfecdab4e743aded173d  El Acatlan      6     7.2     3\n",
      "( 158 / 161 ) processed\n",
      "Empty DataFrame\n",
      "Columns: [ID, Name, Likes, Rating, Tips]\n",
      "Index: []\n",
      "No data available for id= 509d404d498efdffc5ff1315\n",
      "( 159 / 161 ) processed\n",
      "                         ID                          Name  Likes  Rating  Tips\n",
      "0  4b403740f964a520e8b625e3  Montezuma Mexican Restaurant     27     6.8    21\n",
      "( 160 / 161 ) processed\n",
      "Empty DataFrame\n",
      "Columns: [ID, Name, Likes, Rating, Tips]\n",
      "Index: []\n",
      "No data available for id= 4ee3f973f9abfc72263d490f\n",
      "( 161 / 161 ) processed\n"
     ]
    }
   ],
   "source": [
    "# prepare neighborhood list that contains Mexican resturants\n",
    "column_names=['Borough', 'Neighborhood', 'ID','Name','Likes','Rating','Tips']\n",
    "mexican_rest_stats_ny=pd.DataFrame(columns=column_names)\n",
    "count=1\n",
    "\n",
    "\n",
    "for row in mexican_rest_ny.values.tolist():\n",
    "    Borough,Neighborhood,ID,Name=row\n",
    "    try:\n",
    "        venue_details=get_venue_details(ID)\n",
    "        print(venue_details)\n",
    "        id,name,likes,ratings,tips=venue_details.values.tolist()[0]\n",
    "    except IndexError:\n",
    "        print('No data available for id=',ID)\n",
    "        # we will assign 0 value for these resturants as they may have been \n",
    "        #recently opened or details does not exist in FourSquare Database\n",
    "        id,name,likes,ratings,tips=[0]*5\n",
    "    print('(',count,'/',len(mexican_rest_ny),')','processed')\n",
    "    mexican_rest_stats_ny = mexican_rest_stats_ny.append({'Borough': Borough,\n",
    "                                                'Neighborhood': Neighborhood, \n",
    "                                                'ID': id,\n",
    "                                                'Name' : name,\n",
    "                                                'Likes' : likes,\n",
    "                                                'Rating' : ratings,\n",
    "                                                'Tips' : tips\n",
    "                                               }, ignore_index=True)\n",
    "    count+=1"
   ]
  },
  {
   "cell_type": "code",
   "execution_count": 298,
   "metadata": {},
   "outputs": [
    {
     "data": {
      "text/html": [
       "<div>\n",
       "<style scoped>\n",
       "    .dataframe tbody tr th:only-of-type {\n",
       "        vertical-align: middle;\n",
       "    }\n",
       "\n",
       "    .dataframe tbody tr th {\n",
       "        vertical-align: top;\n",
       "    }\n",
       "\n",
       "    .dataframe thead th {\n",
       "        text-align: right;\n",
       "    }\n",
       "</style>\n",
       "<table border=\"1\" class=\"dataframe\">\n",
       "  <thead>\n",
       "    <tr style=\"text-align: right;\">\n",
       "      <th></th>\n",
       "      <th>Borough</th>\n",
       "      <th>Neighborhood</th>\n",
       "      <th>ID</th>\n",
       "      <th>Name</th>\n",
       "      <th>Likes</th>\n",
       "      <th>Rating</th>\n",
       "      <th>Tips</th>\n",
       "    </tr>\n",
       "  </thead>\n",
       "  <tbody>\n",
       "    <tr>\n",
       "      <th>0</th>\n",
       "      <td>Bronx</td>\n",
       "      <td>Kingsbridge</td>\n",
       "      <td>5217dd2811d2d06ccafb77d3</td>\n",
       "      <td>Estrellita Poblana V</td>\n",
       "      <td>24</td>\n",
       "      <td>8.1</td>\n",
       "      <td>8</td>\n",
       "    </tr>\n",
       "    <tr>\n",
       "      <th>1</th>\n",
       "      <td>Bronx</td>\n",
       "      <td>Kingsbridge</td>\n",
       "      <td>4ce81d330f196dcb5d2b43ae</td>\n",
       "      <td>Picante Picante Mexican Restaurant</td>\n",
       "      <td>19</td>\n",
       "      <td>7.9</td>\n",
       "      <td>14</td>\n",
       "    </tr>\n",
       "    <tr>\n",
       "      <th>2</th>\n",
       "      <td>Bronx</td>\n",
       "      <td>Kingsbridge</td>\n",
       "      <td>553d5376498e322eb4d37a1b</td>\n",
       "      <td>Chipotle Mexican Grill</td>\n",
       "      <td>31</td>\n",
       "      <td>7.7</td>\n",
       "      <td>1</td>\n",
       "    </tr>\n",
       "    <tr>\n",
       "      <th>3</th>\n",
       "      <td>Bronx</td>\n",
       "      <td>Norwood</td>\n",
       "      <td>4e74ebead1643f93b1b05d2c</td>\n",
       "      <td>Queen of Tacos</td>\n",
       "      <td>5</td>\n",
       "      <td>7.4</td>\n",
       "      <td>7</td>\n",
       "    </tr>\n",
       "    <tr>\n",
       "      <th>4</th>\n",
       "      <td>Bronx</td>\n",
       "      <td>Baychester</td>\n",
       "      <td>58582b156431e554e165d909</td>\n",
       "      <td>Moe's Southwest Grill</td>\n",
       "      <td>1</td>\n",
       "      <td>6.7</td>\n",
       "      <td>0</td>\n",
       "    </tr>\n",
       "  </tbody>\n",
       "</table>\n",
       "</div>"
      ],
      "text/plain": [
       "  Borough Neighborhood                        ID  \\\n",
       "0   Bronx  Kingsbridge  5217dd2811d2d06ccafb77d3   \n",
       "1   Bronx  Kingsbridge  4ce81d330f196dcb5d2b43ae   \n",
       "2   Bronx  Kingsbridge  553d5376498e322eb4d37a1b   \n",
       "3   Bronx      Norwood  4e74ebead1643f93b1b05d2c   \n",
       "4   Bronx   Baychester  58582b156431e554e165d909   \n",
       "\n",
       "                                 Name Likes  Rating Tips  \n",
       "0                Estrellita Poblana V    24     8.1    8  \n",
       "1  Picante Picante Mexican Restaurant    19     7.9   14  \n",
       "2              Chipotle Mexican Grill    31     7.7    1  \n",
       "3                      Queen of Tacos     5     7.4    7  \n",
       "4               Moe's Southwest Grill     1     6.7    0  "
      ]
     },
     "execution_count": 298,
     "metadata": {},
     "output_type": "execute_result"
    }
   ],
   "source": [
    "mexican_rest_stats_ny.head()"
   ]
  },
  {
   "cell_type": "code",
   "execution_count": 299,
   "metadata": {},
   "outputs": [
    {
     "data": {
      "text/plain": [
       "(161, 7)"
      ]
     },
     "execution_count": 299,
     "metadata": {},
     "output_type": "execute_result"
    }
   ],
   "source": [
    "mexican_rest_stats_ny.shape"
   ]
  },
  {
   "cell_type": "code",
   "execution_count": 300,
   "metadata": {},
   "outputs": [
    {
     "data": {
      "text/plain": [
       "(161, 4)"
      ]
     },
     "execution_count": 300,
     "metadata": {},
     "output_type": "execute_result"
    }
   ],
   "source": [
    "mexican_rest_ny.shape"
   ]
  },
  {
   "cell_type": "markdown",
   "metadata": {},
   "source": [
    "Now let's save this data in a CSV file for each referrencing."
   ]
  },
  {
   "cell_type": "code",
   "execution_count": 301,
   "metadata": {},
   "outputs": [],
   "source": [
    "mexican_rest_stats_ny.to_csv('mexican_rest_stats_ny.csv', index=False)"
   ]
  },
  {
   "cell_type": "code",
   "execution_count": 304,
   "metadata": {},
   "outputs": [
    {
     "data": {
      "text/plain": [
       "(161, 7)"
      ]
     },
     "execution_count": 304,
     "metadata": {},
     "output_type": "execute_result"
    }
   ],
   "source": [
    "mexican_rest_stats_ny.shape"
   ]
  },
  {
   "cell_type": "code",
   "execution_count": 305,
   "metadata": {},
   "outputs": [
    {
     "data": {
      "text/html": [
       "<div>\n",
       "<style scoped>\n",
       "    .dataframe tbody tr th:only-of-type {\n",
       "        vertical-align: middle;\n",
       "    }\n",
       "\n",
       "    .dataframe tbody tr th {\n",
       "        vertical-align: top;\n",
       "    }\n",
       "\n",
       "    .dataframe thead th {\n",
       "        text-align: right;\n",
       "    }\n",
       "</style>\n",
       "<table border=\"1\" class=\"dataframe\">\n",
       "  <thead>\n",
       "    <tr style=\"text-align: right;\">\n",
       "      <th></th>\n",
       "      <th>Borough</th>\n",
       "      <th>Neighborhood</th>\n",
       "      <th>ID</th>\n",
       "      <th>Name</th>\n",
       "      <th>Likes</th>\n",
       "      <th>Rating</th>\n",
       "      <th>Tips</th>\n",
       "    </tr>\n",
       "  </thead>\n",
       "  <tbody>\n",
       "    <tr>\n",
       "      <th>0</th>\n",
       "      <td>Bronx</td>\n",
       "      <td>Kingsbridge</td>\n",
       "      <td>5217dd2811d2d06ccafb77d3</td>\n",
       "      <td>Estrellita Poblana V</td>\n",
       "      <td>24</td>\n",
       "      <td>8.1</td>\n",
       "      <td>8</td>\n",
       "    </tr>\n",
       "    <tr>\n",
       "      <th>1</th>\n",
       "      <td>Bronx</td>\n",
       "      <td>Kingsbridge</td>\n",
       "      <td>4ce81d330f196dcb5d2b43ae</td>\n",
       "      <td>Picante Picante Mexican Restaurant</td>\n",
       "      <td>19</td>\n",
       "      <td>7.9</td>\n",
       "      <td>14</td>\n",
       "    </tr>\n",
       "    <tr>\n",
       "      <th>2</th>\n",
       "      <td>Bronx</td>\n",
       "      <td>Kingsbridge</td>\n",
       "      <td>553d5376498e322eb4d37a1b</td>\n",
       "      <td>Chipotle Mexican Grill</td>\n",
       "      <td>31</td>\n",
       "      <td>7.7</td>\n",
       "      <td>1</td>\n",
       "    </tr>\n",
       "    <tr>\n",
       "      <th>3</th>\n",
       "      <td>Bronx</td>\n",
       "      <td>Norwood</td>\n",
       "      <td>4e74ebead1643f93b1b05d2c</td>\n",
       "      <td>Queen of Tacos</td>\n",
       "      <td>5</td>\n",
       "      <td>7.4</td>\n",
       "      <td>7</td>\n",
       "    </tr>\n",
       "    <tr>\n",
       "      <th>4</th>\n",
       "      <td>Bronx</td>\n",
       "      <td>Baychester</td>\n",
       "      <td>58582b156431e554e165d909</td>\n",
       "      <td>Moe's Southwest Grill</td>\n",
       "      <td>1</td>\n",
       "      <td>6.7</td>\n",
       "      <td>0</td>\n",
       "    </tr>\n",
       "  </tbody>\n",
       "</table>\n",
       "</div>"
      ],
      "text/plain": [
       "  Borough Neighborhood                        ID  \\\n",
       "0   Bronx  Kingsbridge  5217dd2811d2d06ccafb77d3   \n",
       "1   Bronx  Kingsbridge  4ce81d330f196dcb5d2b43ae   \n",
       "2   Bronx  Kingsbridge  553d5376498e322eb4d37a1b   \n",
       "3   Bronx      Norwood  4e74ebead1643f93b1b05d2c   \n",
       "4   Bronx   Baychester  58582b156431e554e165d909   \n",
       "\n",
       "                                 Name Likes  Rating Tips  \n",
       "0                Estrellita Poblana V    24     8.1    8  \n",
       "1  Picante Picante Mexican Restaurant    19     7.9   14  \n",
       "2              Chipotle Mexican Grill    31     7.7    1  \n",
       "3                      Queen of Tacos     5     7.4    7  \n",
       "4               Moe's Southwest Grill     1     6.7    0  "
      ]
     },
     "execution_count": 305,
     "metadata": {},
     "output_type": "execute_result"
    }
   ],
   "source": [
    "mexican_rest_stats_ny.head()"
   ]
  },
  {
   "cell_type": "code",
   "execution_count": 307,
   "metadata": {},
   "outputs": [
    {
     "name": "stdout",
     "output_type": "stream",
     "text": [
      "<class 'pandas.core.frame.DataFrame'>\n",
      "RangeIndex: 161 entries, 0 to 160\n",
      "Data columns (total 7 columns):\n",
      "Borough         161 non-null object\n",
      "Neighborhood    161 non-null object\n",
      "ID              161 non-null object\n",
      "Name            161 non-null object\n",
      "Likes           161 non-null object\n",
      "Rating          161 non-null float64\n",
      "Tips            161 non-null object\n",
      "dtypes: float64(1), object(6)\n",
      "memory usage: 8.9+ KB\n"
     ]
    }
   ],
   "source": [
    "mexican_rest_stats_ny.info()"
   ]
  },
  {
   "cell_type": "markdown",
   "metadata": {},
   "source": [
    "Let's convert the 'Likes' and 'Tips' to Float as they are currently in the String data type"
   ]
  },
  {
   "cell_type": "code",
   "execution_count": 308,
   "metadata": {},
   "outputs": [],
   "source": [
    "mexican_rest_stats_ny['Likes']= mexican_rest_stats_ny['Likes'].astype('float64')\n",
    "mexican_rest_stats_ny['Tips']= mexican_rest_stats_ny['Tips'].astype('float64')"
   ]
  },
  {
   "cell_type": "code",
   "execution_count": 309,
   "metadata": {},
   "outputs": [
    {
     "name": "stdout",
     "output_type": "stream",
     "text": [
      "<class 'pandas.core.frame.DataFrame'>\n",
      "RangeIndex: 161 entries, 0 to 160\n",
      "Data columns (total 7 columns):\n",
      "Borough         161 non-null object\n",
      "Neighborhood    161 non-null object\n",
      "ID              161 non-null object\n",
      "Name            161 non-null object\n",
      "Likes           161 non-null float64\n",
      "Rating          161 non-null float64\n",
      "Tips            161 non-null float64\n",
      "dtypes: float64(3), object(4)\n",
      "memory usage: 8.9+ KB\n"
     ]
    }
   ],
   "source": [
    "mexican_rest_stats_ny.info()"
   ]
  },
  {
   "cell_type": "code",
   "execution_count": 312,
   "metadata": {},
   "outputs": [
    {
     "data": {
      "text/plain": [
       "Borough                           Queens\n",
       "Neighborhood               Hunters Point\n",
       "ID              4f62afe7e4b09b9cd8b354f6\n",
       "Name                        Casa Enrique\n",
       "Likes                                673\n",
       "Rating                               9.1\n",
       "Tips                                 231\n",
       "Name: 145, dtype: object"
      ]
     },
     "execution_count": 312,
     "metadata": {},
     "output_type": "execute_result"
    }
   ],
   "source": [
    "# Resturant with the Highest Likes\n",
    "mexican_rest_stats_ny.iloc[mexican_rest_stats_ny['Likes'].idxmax()]"
   ]
  },
  {
   "cell_type": "code",
   "execution_count": 313,
   "metadata": {},
   "outputs": [
    {
     "data": {
      "text/plain": [
       "Borough                           Queens\n",
       "Neighborhood               Hunters Point\n",
       "ID              4f62afe7e4b09b9cd8b354f6\n",
       "Name                        Casa Enrique\n",
       "Likes                                673\n",
       "Rating                               9.1\n",
       "Tips                                 231\n",
       "Name: 145, dtype: object"
      ]
     },
     "execution_count": 313,
     "metadata": {},
     "output_type": "execute_result"
    }
   ],
   "source": [
    "# Resturant with the Highest Rating\n",
    "mexican_rest_stats_ny.iloc[mexican_rest_stats_ny['Likes'].idxmax()]"
   ]
  },
  {
   "cell_type": "code",
   "execution_count": 314,
   "metadata": {},
   "outputs": [
    {
     "data": {
      "text/plain": [
       "Borough                           Queens\n",
       "Neighborhood               Hunters Point\n",
       "ID              4f62afe7e4b09b9cd8b354f6\n",
       "Name                        Casa Enrique\n",
       "Likes                                673\n",
       "Rating                               9.1\n",
       "Tips                                 231\n",
       "Name: 145, dtype: object"
      ]
     },
     "execution_count": 314,
     "metadata": {},
     "output_type": "execute_result"
    }
   ],
   "source": [
    "# Resturant with the Highest Tip\n",
    "mexican_rest_stats_ny.iloc[mexican_rest_stats_ny['Tips'].idxmax()]"
   ]
  },
  {
   "cell_type": "markdown",
   "metadata": {},
   "source": [
    "Now lets look at the neighborhood with maximum average rating of Resturants."
   ]
  },
  {
   "cell_type": "code",
   "execution_count": 315,
   "metadata": {},
   "outputs": [],
   "source": [
    "neighborhood_stats = mexican_rest_stats_ny.groupby('Neighborhood',as_index=False).mean()[['Neighborhood','Rating']]\n",
    "neighborhood_stats.columns=['Neighborhood','Average Rating']"
   ]
  },
  {
   "cell_type": "code",
   "execution_count": 318,
   "metadata": {},
   "outputs": [
    {
     "data": {
      "text/html": [
       "<div>\n",
       "<style scoped>\n",
       "    .dataframe tbody tr th:only-of-type {\n",
       "        vertical-align: middle;\n",
       "    }\n",
       "\n",
       "    .dataframe tbody tr th {\n",
       "        vertical-align: top;\n",
       "    }\n",
       "\n",
       "    .dataframe thead th {\n",
       "        text-align: right;\n",
       "    }\n",
       "</style>\n",
       "<table border=\"1\" class=\"dataframe\">\n",
       "  <thead>\n",
       "    <tr style=\"text-align: right;\">\n",
       "      <th></th>\n",
       "      <th>Neighborhood</th>\n",
       "      <th>Average Rating</th>\n",
       "    </tr>\n",
       "  </thead>\n",
       "  <tbody>\n",
       "    <tr>\n",
       "      <th>46</th>\n",
       "      <td>Hunters Point</td>\n",
       "      <td>9.1</td>\n",
       "    </tr>\n",
       "    <tr>\n",
       "      <th>71</th>\n",
       "      <td>Parkchester</td>\n",
       "      <td>9.1</td>\n",
       "    </tr>\n",
       "    <tr>\n",
       "      <th>28</th>\n",
       "      <td>East Village</td>\n",
       "      <td>8.7</td>\n",
       "    </tr>\n",
       "    <tr>\n",
       "      <th>16</th>\n",
       "      <td>Chinatown</td>\n",
       "      <td>8.7</td>\n",
       "    </tr>\n",
       "    <tr>\n",
       "      <th>42</th>\n",
       "      <td>Greenpoint</td>\n",
       "      <td>8.7</td>\n",
       "    </tr>\n",
       "    <tr>\n",
       "      <th>78</th>\n",
       "      <td>Ridgewood</td>\n",
       "      <td>8.6</td>\n",
       "    </tr>\n",
       "    <tr>\n",
       "      <th>26</th>\n",
       "      <td>Dumbo</td>\n",
       "      <td>8.6</td>\n",
       "    </tr>\n",
       "    <tr>\n",
       "      <th>35</th>\n",
       "      <td>Fulton Ferry</td>\n",
       "      <td>8.6</td>\n",
       "    </tr>\n",
       "    <tr>\n",
       "      <th>90</th>\n",
       "      <td>Upper East Side</td>\n",
       "      <td>8.6</td>\n",
       "    </tr>\n",
       "    <tr>\n",
       "      <th>93</th>\n",
       "      <td>Westchester Square</td>\n",
       "      <td>8.5</td>\n",
       "    </tr>\n",
       "  </tbody>\n",
       "</table>\n",
       "</div>"
      ],
      "text/plain": [
       "          Neighborhood  Average Rating\n",
       "46       Hunters Point             9.1\n",
       "71         Parkchester             9.1\n",
       "28        East Village             8.7\n",
       "16           Chinatown             8.7\n",
       "42          Greenpoint             8.7\n",
       "78           Ridgewood             8.6\n",
       "26               Dumbo             8.6\n",
       "35        Fulton Ferry             8.6\n",
       "90     Upper East Side             8.6\n",
       "93  Westchester Square             8.5"
      ]
     },
     "execution_count": 318,
     "metadata": {},
     "output_type": "execute_result"
    }
   ],
   "source": [
    "#These are the Neighborhood with the Highest Average Rating\n",
    "neighborhood_stats.sort_values(['Average Rating'],ascending=False).head(10)"
   ]
  },
  {
   "cell_type": "code",
   "execution_count": 319,
   "metadata": {},
   "outputs": [
    {
     "data": {
      "text/html": [
       "<div>\n",
       "<style scoped>\n",
       "    .dataframe tbody tr th:only-of-type {\n",
       "        vertical-align: middle;\n",
       "    }\n",
       "\n",
       "    .dataframe tbody tr th {\n",
       "        vertical-align: top;\n",
       "    }\n",
       "\n",
       "    .dataframe thead th {\n",
       "        text-align: right;\n",
       "    }\n",
       "</style>\n",
       "<table border=\"1\" class=\"dataframe\">\n",
       "  <thead>\n",
       "    <tr style=\"text-align: right;\">\n",
       "      <th></th>\n",
       "      <th>Borough</th>\n",
       "      <th>Average Rating</th>\n",
       "    </tr>\n",
       "  </thead>\n",
       "  <tbody>\n",
       "    <tr>\n",
       "      <th>2</th>\n",
       "      <td>Manhattan</td>\n",
       "      <td>7.839024</td>\n",
       "    </tr>\n",
       "    <tr>\n",
       "      <th>1</th>\n",
       "      <td>Brooklyn</td>\n",
       "      <td>7.014286</td>\n",
       "    </tr>\n",
       "    <tr>\n",
       "      <th>3</th>\n",
       "      <td>Queens</td>\n",
       "      <td>6.870968</td>\n",
       "    </tr>\n",
       "    <tr>\n",
       "      <th>0</th>\n",
       "      <td>Bronx</td>\n",
       "      <td>6.012000</td>\n",
       "    </tr>\n",
       "    <tr>\n",
       "      <th>4</th>\n",
       "      <td>Staten Island</td>\n",
       "      <td>5.166667</td>\n",
       "    </tr>\n",
       "  </tbody>\n",
       "</table>\n",
       "</div>"
      ],
      "text/plain": [
       "         Borough  Average Rating\n",
       "2      Manhattan        7.839024\n",
       "1       Brooklyn        7.014286\n",
       "3         Queens        6.870968\n",
       "0          Bronx        6.012000\n",
       "4  Staten Island        5.166667"
      ]
     },
     "execution_count": 319,
     "metadata": {},
     "output_type": "execute_result"
    }
   ],
   "source": [
    "borough_stats = mexican_rest_stats_ny.groupby('Borough',as_index=False).mean()[['Borough','Rating']]\n",
    "borough_stats.columns=['Borough','Average Rating']\n",
    "\n",
    "# Average rating for each Borough\n",
    "borough_stats.sort_values(['Average Rating'],ascending=False).head()"
   ]
  },
  {
   "cell_type": "markdown",
   "metadata": {},
   "source": [
    "Now let us visualize this information"
   ]
  },
  {
   "cell_type": "code",
   "execution_count": 321,
   "metadata": {},
   "outputs": [
    {
     "data": {
      "image/png": "[encoded data removed]",
      "text/plain": [
       "<Figure size 900x500 with 1 Axes>"
      ]
     },
     "metadata": {
      "needs_background": "light"
     },
     "output_type": "display_data"
    }
   ],
   "source": [
    "plt.figure(figsize=(9,5), dpi = 100)\n",
    "plt.title('Average rating of Mexican Resturants for each Borough')\n",
    "plt.xlabel('Borough', fontsize = 15)\n",
    "plt.ylabel('Average Rating', fontsize=15)\n",
    "mexican_rest_stats_ny.groupby('Borough').mean()['Rating'].plot(kind='bar')\n",
    "plt.legend()\n",
    "plt.show()"
   ]
  },
  {
   "cell_type": "markdown",
   "metadata": {},
   "source": [
    "Now considering all the neighborhoods with average rating greater or equal 9.0 to visualize on map"
   ]
  },
  {
   "cell_type": "code",
   "execution_count": 322,
   "metadata": {},
   "outputs": [
    {
     "data": {
      "text/html": [
       "<div>\n",
       "<style scoped>\n",
       "    .dataframe tbody tr th:only-of-type {\n",
       "        vertical-align: middle;\n",
       "    }\n",
       "\n",
       "    .dataframe tbody tr th {\n",
       "        vertical-align: top;\n",
       "    }\n",
       "\n",
       "    .dataframe thead th {\n",
       "        text-align: right;\n",
       "    }\n",
       "</style>\n",
       "<table border=\"1\" class=\"dataframe\">\n",
       "  <thead>\n",
       "    <tr style=\"text-align: right;\">\n",
       "      <th></th>\n",
       "      <th>Neighborhood</th>\n",
       "      <th>Average Rating</th>\n",
       "    </tr>\n",
       "  </thead>\n",
       "  <tbody>\n",
       "    <tr>\n",
       "      <th>46</th>\n",
       "      <td>Hunters Point</td>\n",
       "      <td>9.1</td>\n",
       "    </tr>\n",
       "    <tr>\n",
       "      <th>71</th>\n",
       "      <td>Parkchester</td>\n",
       "      <td>9.1</td>\n",
       "    </tr>\n",
       "  </tbody>\n",
       "</table>\n",
       "</div>"
      ],
      "text/plain": [
       "     Neighborhood  Average Rating\n",
       "46  Hunters Point             9.1\n",
       "71    Parkchester             9.1"
      ]
     },
     "execution_count": 322,
     "metadata": {},
     "output_type": "execute_result"
    }
   ],
   "source": [
    "neighborhood_stats= neighborhood_stats[neighborhood_stats['Average Rating']>=9.0]\n",
    "neighborhood_stats"
   ]
  },
  {
   "cell_type": "markdown",
   "metadata": {},
   "source": [
    "let us join this dataset to original new york data to get lonitude and latitude"
   ]
  },
  {
   "cell_type": "code",
   "execution_count": 323,
   "metadata": {},
   "outputs": [
    {
     "data": {
      "text/html": [
       "<div>\n",
       "<style scoped>\n",
       "    .dataframe tbody tr th:only-of-type {\n",
       "        vertical-align: middle;\n",
       "    }\n",
       "\n",
       "    .dataframe tbody tr th {\n",
       "        vertical-align: top;\n",
       "    }\n",
       "\n",
       "    .dataframe thead th {\n",
       "        text-align: right;\n",
       "    }\n",
       "</style>\n",
       "<table border=\"1\" class=\"dataframe\">\n",
       "  <thead>\n",
       "    <tr style=\"text-align: right;\">\n",
       "      <th></th>\n",
       "      <th>Borough</th>\n",
       "      <th>Neighborhood</th>\n",
       "      <th>Latitude</th>\n",
       "      <th>Longitude</th>\n",
       "      <th>Average Rating</th>\n",
       "    </tr>\n",
       "  </thead>\n",
       "  <tbody>\n",
       "    <tr>\n",
       "      <th>0</th>\n",
       "      <td>Queens</td>\n",
       "      <td>Hunters Point</td>\n",
       "      <td>40.743414</td>\n",
       "      <td>-73.953868</td>\n",
       "      <td>9.1</td>\n",
       "    </tr>\n",
       "    <tr>\n",
       "      <th>1</th>\n",
       "      <td>Bronx</td>\n",
       "      <td>Parkchester</td>\n",
       "      <td>40.837938</td>\n",
       "      <td>-73.856003</td>\n",
       "      <td>9.1</td>\n",
       "    </tr>\n",
       "  </tbody>\n",
       "</table>\n",
       "</div>"
      ],
      "text/plain": [
       "  Borough   Neighborhood   Latitude  Longitude  Average Rating\n",
       "0  Queens  Hunters Point  40.743414 -73.953868             9.1\n",
       "1   Bronx    Parkchester  40.837938 -73.856003             9.1"
      ]
     },
     "execution_count": 323,
     "metadata": {},
     "output_type": "execute_result"
    }
   ],
   "source": [
    "neighborhood_stats =pd.merge(neighborhood_stats,new_york_data, on='Neighborhood')\n",
    "neighborhood_stats = neighborhood_stats[['Borough','Neighborhood','Latitude','Longitude','Average Rating']]\n",
    "neighborhood_stats"
   ]
  },
  {
   "cell_type": "markdown",
   "metadata": {},
   "source": [
    "Showing this data on a map"
   ]
  },
  {
   "cell_type": "code",
   "execution_count": 324,
   "metadata": {},
   "outputs": [],
   "source": [
    "# create map and display it\n",
    "ny_map = folium.Map(location=geo_location('New York'), zoom_start=12)"
   ]
  },
  {
   "cell_type": "code",
   "execution_count": 326,
   "metadata": {},
   "outputs": [],
   "source": [
    "\n",
    "incidents = folium.map.FeatureGroup()\n",
    "\n",
    "for lat, lng, in neighborhood_stats[['Latitude','Longitude']].values:\n",
    "    incidents.add_child(\n",
    "        folium.CircleMarker(\n",
    "            [lat, lng],\n",
    "            radius=10, # define how big you want the circle markers to be\n",
    "            color='yellow',\n",
    "            fill=True,\n",
    "            fill_color='blue',\n",
    "            fill_opacity=0.6\n",
    "        )\n",
    "    )\n"
   ]
  },
  {
   "cell_type": "markdown",
   "metadata": {},
   "source": [
    "Adding a new field to dataframe for labeling purpose"
   ]
  },
  {
   "cell_type": "code",
   "execution_count": 329,
   "metadata": {},
   "outputs": [],
   "source": [
    "neighborhood_stats['Label']= neighborhood_stats['Neighborhood']+', '+neighborhood_stats['Borough']+'('+neighborhood_stats['Average Rating'].map(str)+')'"
   ]
  },
  {
   "cell_type": "code",
   "execution_count": 330,
   "metadata": {},
   "outputs": [
    {
     "data": {
      "text/html": [
       "<div style=\"width:100%;\"><div style=\"position:relative;width:100%;height:0;padding-bottom:60%;\"><iframe src=\"about:blank\" style=\"position:absolute;width:100%;height:100%;left:0;top:0;border:none !important;\" data-html=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 onload=\"this.contentDocument.open();this.contentDocument.write(atob(this.getAttribute('data-html')));this.contentDocument.close();\" allowfullscreen webkitallowfullscreen mozallowfullscreen></iframe></div></div>"
      ],
      "text/plain": [
       "<folium.folium.Map at 0x1bb623dc2e8>"
      ]
     },
     "execution_count": 330,
     "metadata": {},
     "output_type": "execute_result"
    }
   ],
   "source": [
    "# add pop-up text to each marker on the map\n",
    "for lat, lng, label in neighborhood_stats[['Latitude','Longitude','Label']].values:\n",
    "    folium.Marker([lat, lng], popup=label).add_to(ny_map)        \n",
    "# add incidents to map\n",
    "ny_map.add_child(incidents)"
   ]
  },
  {
   "cell_type": "markdown",
   "metadata": {},
   "source": [
    "Now that we have visualized the Neighborhoods.\n",
    "Lets Visualize Boroughs based on average Rating"
   ]
  },
  {
   "cell_type": "code",
   "execution_count": 333,
   "metadata": {},
   "outputs": [],
   "source": [
    "ny_map = folium.Map(location=geo_location('New York'), zoom_start=12)\n",
    "ny_geo = r'ny_geojson.json'\n",
    "\n",
    "ny_map.choropleth(\n",
    "    geo_data=ny_geo,\n",
    "    data= borough_stats,\n",
    "    columns=['Borough', 'Average Rating'],\n",
    "    key_on='feature.properties.boro_name',\n",
    "    fill_color='YlOrRd', \n",
    "    fill_opacity=0.7, \n",
    "    line_opacity=0.2,\n",
    "    legend_name='Average Rating'\n",
    ")\n",
    "\n",
    "# display map\n",
    "# as this is huge map data , we will save it to a file\n",
    "ny_map.save('borough_rating.html')"
   ]
  },
  {
   "cell_type": "markdown",
   "metadata": {},
   "source": [
    "Please see the borough_rating file here: https://github.com/ufuomaolori/Coursera_Capstone/blob/master/borough_rating.html"
   ]
  },
  {
   "cell_type": "markdown",
   "metadata": {},
   "source": [
    "### Conclusion \n",
    "- Queens(Hunters Point) and Bronx(Parkchester) are some of the best neighborhoods for Mexican Dishes. \n",
    "- Manhattan have potential Mexican Resturant Market.\n",
    "- Staten Island\tranks last in average rating of Mexican Resturants.\n",
    "- Manhattan is the best place to stay if you prefer Mexican Dishes."
   ]
  },
  {
   "cell_type": "markdown",
   "metadata": {},
   "source": [
    "### Limitations \n",
    "- The ranking is based on the rating of resturants\n",
    "- The accuracy of data depends depends on the source of the data (FourSquare)"
   ]
  },
  {
   "cell_type": "code",
   "execution_count": null,
   "metadata": {},
   "outputs": [],
   "source": []
  }
 ],
 "metadata": {
  "kernelspec": {
   "display_name": "Python 3",
   "language": "python",
   "name": "python3"
  },
  "language_info": {
   "codemirror_mode": {
    "name": "ipython",
    "version": 3
   },
   "file_extension": ".py",
   "mimetype": "text/x-python",
   "name": "python",
   "nbconvert_exporter": "python",
   "pygments_lexer": "ipython3",
   "version": "3.7.1"
  }
 },
 "nbformat": 4,
 "nbformat_minor": 2
}
