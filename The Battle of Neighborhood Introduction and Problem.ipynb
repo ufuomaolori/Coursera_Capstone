{
 "cells": [
  {
   "cell_type": "markdown",
   "metadata": {},
   "source": [
    "# Capstone Project - The Battle of Neighborhoods"
   ]
  },
  {
   "cell_type": "markdown",
   "metadata": {},
   "source": [
    "## Introduction and Business Problem\n",
    "\n",
    "New York City, in the state of New York, is by far the largest city in the United States, with an estimated 2016 population of 8.55 million. The city features five separate boroughs: Staten Island, The Bronx, Brooklyn, Queens, and Manhattan. As many as 800 languages are spoken throughout New York City, making it the most diverse city in the world when it comes to linguistic multiplicity.\n",
    "\n",
    "The estimated population for New York City in 2016 is 8,550,405. This reflects a growth of 375,300 people, a 4.6% increase since the 2010 census recorded 8.175 million residents.\n",
    "\n",
    "The most significant increase in New York City’s population occurred in the borough of Brooklyn, which showed a population increase of 5.3% between the 2010 census and 2016 estimates. The second most substantial change is in the Bronx, which reflected a 5.1% increase, followed by Queens (4.9%), Manhattan (3.7%) and Staten Island (1.2%).\n",
    "\n",
    "<b> According to the most recent ACS, the racial composition of New York City was: </b>\n",
    "<ul>\n",
    "    <li>White: 42.67%</li>\n",
    "    <li>Black or African American: 24.27%</li>\n",
    "    <li>Other race: 15.12%</li>\n",
    "    <li>Asian: 13.95%</li>\n",
    "    <li>Two or more races: 3.51%</li>\n",
    "    <li>Native American: 0.43%</li>\n",
    "    <li>Native Hawaiian or Pacific Islander: 0.05%</li>\n",
    "\n",
    "This diversity in culture brings about diverse dishes. There are many resturants in New york City, each belonging to different race like Spanish, Chinese , Indian , French etc.\n",
    "\n",
    "I will list and visualize all the parts of New York City that has great Mexican \n",
    "Resturants."
   ]
  },
  {
   "cell_type": "markdown",
   "metadata": {},
   "source": [
    "### Data \n",
    "For this project the following data are needed:\n",
    "<ul>\n",
    "<li> New York City data that contains list Boroughs, Neighborhoods along with their latitude and longitude.\n",
    "    <ul>\n",
    "        <li>Data source : https://cocl.us/new_york_dataset\n",
    "        <li> Description : This data set contains the required information. And we will use this data set to explore various neighborhoods of new york city.\n",
    "     </ul>\n",
    "<li> Mexican resturants in each neighborhood of new york city.\n",
    "        <ul>\n",
    "        <li>Data source : Fousquare API\n",
    "        <li> Description : By using this api we will get all the venues in each neighborhood. We can filter these venues to get only Mexican resturants.\n",
    "     </ul>\n",
    "<li> GeoSpace data\n",
    "          <ul>\n",
    "        <li>Data source : https://data.cityofnewyork.us/City-Government/Borough-Boundaries/tqmj-j8zm\n",
    "        <li> Description : By using this geo space data we will get the New york Borough boundaries that will help us visualize choropleth map.\n",
    "  \n",
    "</ul>"
   ]
  },
  {
   "cell_type": "markdown",
   "metadata": {},
   "source": [
    "### Approach\n",
    "- Collect the new york city data from https://cocl.us/new_york_dataset\n",
    "- Using FourSquare API we will find all venues for each neighborhood.\n",
    "- Filter out all venues that are Mexican Resturants.\n",
    "- Find rating , tips and like count for each Mexican Resturants using FourSquare API.\n",
    "- Using rating for each resturant , we will sort that data.\n",
    "- Visualize the Ranking of neighborhoods using folium library(python)"
   ]
  },
  {
   "cell_type": "markdown",
   "metadata": {},
   "source": [
    "### Questions that can be asked using the above mentioned datasets\n",
    "- What is the best location in New York City for Mexican Dishes ? \n",
    "- Which areas have potential Mexican Resturant Market ? \n",
    "- Which all areas lack Mexican Resturants ?\n",
    "- Which is the best place to stay if you prefer Mexican Dishes ?"
   ]
  },
  {
   "cell_type": "markdown",
   "metadata": {},
   "source": [
    "### Analysis\n",
    "We will import the required libraries for python.\n",
    "\n",
    "- pandas and numpy for handling data.\n",
    "- request module for using FourSquare API.\n",
    "- geopy to get co-ordinates of City of New York.\n",
    "- folium to visualize the results on a map"
   ]
  }
 ],
 "metadata": {
  "kernelspec": {
   "display_name": "Python 3",
   "language": "python",
   "name": "python3"
  },
  "language_info": {
   "codemirror_mode": {
    "name": "ipython",
    "version": 3
   },
   "file_extension": ".py",
   "mimetype": "text/x-python",
   "name": "python",
   "nbconvert_exporter": "python",
   "pygments_lexer": "ipython3",
   "version": "3.7.1"
  }
 },
 "nbformat": 4,
 "nbformat_minor": 2
}
